{
  "cells": [
    {
      "cell_type": "markdown",
      "metadata": {
        "id": "view-in-github",
        "colab_type": "text"
      },
      "source": [
        "<a href=\"https://colab.research.google.com/github/rugarce/Proyecto1Ruben-back/blob/main/Sesion5.ipynb\" target=\"_parent\"><img src=\"https://colab.research.google.com/assets/colab-badge.svg\" alt=\"Open In Colab\"/></a>"
      ]
    },
    {
      "cell_type": "markdown",
      "metadata": {
        "id": "mHzX4snWjAUJ"
      },
      "source": [
        "# Sesión 5: programación funcional con Python"
      ]
    },
    {
      "cell_type": "markdown",
      "metadata": {
        "id": "x785dxVWjAUO"
      },
      "source": [
        "Vamos a poner a prueba a Python como lenguaje de programación funcional.\n",
        "En primer lugar vamos a ver que las funciones son objetos Python y admiten ser tratadas,\n",
        "sin ningún tipo de tratamiento especial, como cualquier otro tipo de objeto. Por ejemplo, ser argumentos y resultados de funciones.\n",
        "No se trata de hacer programación funcional pura, practicaremos la búsqueda de soluciones recursicas de problemas e introduciremos algunos operadores que provienen de los lenguajes funcionales y que Python incorpora.\n",
        "\n",
        "Para nuestro interés en este curso, nos basta con un conocimiento muy básico de los fundamentos de la Programación Funcional. Para ello, se recomienda estudiar los apuntes de van Rossum y Drake: \"[Functional Programming HOWTO](https://www.cse.unr.edu/~sushil/class/381/notes/python/docs-pdf/howto-functional.pdf)\"."
      ]
    },
    {
      "cell_type": "code",
      "execution_count": 28,
      "metadata": {
        "id": "NIMTY4l5jAUO"
      },
      "outputs": [],
      "source": [
        "#Comenzamos definiendo una función para ver su tipo\n",
        "def doble (x):\n",
        "    return(2*x)"
      ]
    },
    {
      "cell_type": "code",
      "execution_count": 2,
      "metadata": {
        "id": "Ed5nyd_ijAUP",
        "outputId": "a5614f48-f910-4ba8-8889-1e9b105dc1b6",
        "colab": {
          "base_uri": "https://localhost:8080/"
        }
      },
      "outputs": [
        {
          "output_type": "execute_result",
          "data": {
            "text/plain": [
              "['In',\n",
              " 'Out',\n",
              " '_',\n",
              " '__',\n",
              " '___',\n",
              " '__builtin__',\n",
              " '__builtins__',\n",
              " '__doc__',\n",
              " '__loader__',\n",
              " '__name__',\n",
              " '__package__',\n",
              " '__spec__',\n",
              " '_dh',\n",
              " '_i',\n",
              " '_i1',\n",
              " '_i2',\n",
              " '_ih',\n",
              " '_ii',\n",
              " '_iii',\n",
              " '_oh',\n",
              " 'doble',\n",
              " 'exit',\n",
              " 'get_ipython',\n",
              " 'quit']"
            ]
          },
          "metadata": {},
          "execution_count": 2
        }
      ],
      "source": [
        "dir()\n"
      ]
    },
    {
      "cell_type": "code",
      "execution_count": 5,
      "metadata": {
        "id": "oc6ZmVVvjAUQ",
        "outputId": "ebc879b6-4e49-4947-ec58-7bc6ff20efe7",
        "colab": {
          "base_uri": "https://localhost:8080/",
          "height": 104
        }
      },
      "outputs": [
        {
          "output_type": "execute_result",
          "data": {
            "text/plain": [
              "<function __main__.doble(x)>"
            ],
            "text/html": [
              "<div style=\"max-width:800px; border: 1px solid var(--colab-border-color);\"><style>\n",
              "      pre.function-repr-contents {\n",
              "        overflow-x: auto;\n",
              "        padding: 8px 12px;\n",
              "        max-height: 500px;\n",
              "      }\n",
              "\n",
              "      pre.function-repr-contents.function-repr-contents-collapsed {\n",
              "        cursor: pointer;\n",
              "        max-height: 100px;\n",
              "      }\n",
              "    </style>\n",
              "    <pre style=\"white-space: initial; background:\n",
              "         var(--colab-secondary-surface-color); padding: 8px 12px;\n",
              "         border-bottom: 1px solid var(--colab-border-color);\"><b>doble</b><br/>def doble(x)</pre><pre class=\"function-repr-contents function-repr-contents-collapsed\" style=\"\"><a class=\"filepath\" style=\"display:none\" href=\"#\">/tmp/ipython-input-3329028391.py</a>&lt;no docstring&gt;</pre></div>"
            ]
          },
          "metadata": {},
          "execution_count": 5
        }
      ],
      "source": [
        "#Se trata de un objeto función\n",
        "type (doble)\n",
        "doble"
      ]
    },
    {
      "cell_type": "code",
      "execution_count": 6,
      "metadata": {
        "id": "zi95rTH0jAUQ"
      },
      "outputs": [],
      "source": [
        "#Hasta aquí, todo normal. Cualquier lenguaje admite algo como lo siguiente (se \"componen\" funciones de modo natural).\n",
        "def cuadruple(x):\n",
        "    return(doble (doble(x)))"
      ]
    },
    {
      "cell_type": "code",
      "execution_count": 7,
      "metadata": {
        "id": "UTB4fD28jAUR",
        "outputId": "3fcf32d9-918b-46f1-cf17-b0daf273533e",
        "colab": {
          "base_uri": "https://localhost:8080/"
        }
      },
      "outputs": [
        {
          "output_type": "execute_result",
          "data": {
            "text/plain": [
              "16"
            ]
          },
          "metadata": {},
          "execution_count": 7
        }
      ],
      "source": [
        "cuadruple(4)"
      ]
    },
    {
      "cell_type": "code",
      "execution_count": 8,
      "metadata": {
        "id": "pmPtIKnQjAUR"
      },
      "outputs": [],
      "source": [
        "#Generalizamos la función anterior\n",
        "#Conviene darse cuenta de que la siguiente función sería difícil de tipar\n",
        "#Podría dar problemas en tiempo de ejecución\n",
        "def cuadradoFun (f, x):\n",
        "    return(f(f(x)))"
      ]
    },
    {
      "cell_type": "code",
      "execution_count": 9,
      "metadata": {
        "id": "a9JrQQkCjAUT",
        "outputId": "4fea550d-c5a4-44bb-8590-1b572d9a4ffa",
        "colab": {
          "base_uri": "https://localhost:8080/"
        }
      },
      "outputs": [
        {
          "output_type": "execute_result",
          "data": {
            "text/plain": [
              "function"
            ]
          },
          "metadata": {},
          "execution_count": 9
        }
      ],
      "source": [
        "type(cuadradoFun)"
      ]
    },
    {
      "cell_type": "code",
      "execution_count": 10,
      "metadata": {
        "id": "YIE1Rbe8jAUT",
        "outputId": "9a539594-aa54-4b67-9a14-cf3d296f576e",
        "colab": {
          "base_uri": "https://localhost:8080/",
          "height": 304
        }
      },
      "outputs": [
        {
          "output_type": "error",
          "ename": "TypeError",
          "evalue": "object of type 'int' has no len()",
          "traceback": [
            "\u001b[0;31m---------------------------------------------------------------------------\u001b[0m",
            "\u001b[0;31mTypeError\u001b[0m                                 Traceback (most recent call last)",
            "\u001b[0;32m/tmp/ipython-input-4198677138.py\u001b[0m in \u001b[0;36m<cell line: 0>\u001b[0;34m()\u001b[0m\n\u001b[1;32m      2\u001b[0m \u001b[0;32mdef\u001b[0m \u001b[0mf\u001b[0m\u001b[0;34m(\u001b[0m\u001b[0mlis\u001b[0m\u001b[0;34m)\u001b[0m\u001b[0;34m:\u001b[0m\u001b[0;34m\u001b[0m\u001b[0;34m\u001b[0m\u001b[0m\n\u001b[1;32m      3\u001b[0m     \u001b[0;32mreturn\u001b[0m\u001b[0;34m(\u001b[0m\u001b[0mlen\u001b[0m\u001b[0;34m(\u001b[0m\u001b[0mlis\u001b[0m\u001b[0;34m)\u001b[0m\u001b[0;34m-\u001b[0m\u001b[0;36m1\u001b[0m\u001b[0;34m)\u001b[0m\u001b[0;34m\u001b[0m\u001b[0;34m\u001b[0m\u001b[0m\n\u001b[0;32m----> 4\u001b[0;31m \u001b[0mcuadradoFun\u001b[0m \u001b[0;34m(\u001b[0m\u001b[0mf\u001b[0m\u001b[0;34m,\u001b[0m\u001b[0;34m[\u001b[0m\u001b[0;36m2\u001b[0m\u001b[0;34m]\u001b[0m\u001b[0;34m)\u001b[0m\u001b[0;34m\u001b[0m\u001b[0;34m\u001b[0m\u001b[0m\n\u001b[0m",
            "\u001b[0;32m/tmp/ipython-input-523448290.py\u001b[0m in \u001b[0;36mcuadradoFun\u001b[0;34m(f, x)\u001b[0m\n\u001b[1;32m      3\u001b[0m \u001b[0;31m#Podría dar problemas en tiempo de ejecución\u001b[0m\u001b[0;34m\u001b[0m\u001b[0;34m\u001b[0m\u001b[0m\n\u001b[1;32m      4\u001b[0m \u001b[0;32mdef\u001b[0m \u001b[0mcuadradoFun\u001b[0m \u001b[0;34m(\u001b[0m\u001b[0mf\u001b[0m\u001b[0;34m,\u001b[0m \u001b[0mx\u001b[0m\u001b[0;34m)\u001b[0m\u001b[0;34m:\u001b[0m\u001b[0;34m\u001b[0m\u001b[0;34m\u001b[0m\u001b[0m\n\u001b[0;32m----> 5\u001b[0;31m     \u001b[0;32mreturn\u001b[0m\u001b[0;34m(\u001b[0m\u001b[0mf\u001b[0m\u001b[0;34m(\u001b[0m\u001b[0mf\u001b[0m\u001b[0;34m(\u001b[0m\u001b[0mx\u001b[0m\u001b[0;34m)\u001b[0m\u001b[0;34m)\u001b[0m\u001b[0;34m)\u001b[0m\u001b[0;34m\u001b[0m\u001b[0;34m\u001b[0m\u001b[0m\n\u001b[0m",
            "\u001b[0;32m/tmp/ipython-input-4198677138.py\u001b[0m in \u001b[0;36mf\u001b[0;34m(lis)\u001b[0m\n\u001b[1;32m      1\u001b[0m \u001b[0;31m#El siguiente script produce error al ejecutarse\u001b[0m\u001b[0;34m\u001b[0m\u001b[0;34m\u001b[0m\u001b[0m\n\u001b[1;32m      2\u001b[0m \u001b[0;32mdef\u001b[0m \u001b[0mf\u001b[0m\u001b[0;34m(\u001b[0m\u001b[0mlis\u001b[0m\u001b[0;34m)\u001b[0m\u001b[0;34m:\u001b[0m\u001b[0;34m\u001b[0m\u001b[0;34m\u001b[0m\u001b[0m\n\u001b[0;32m----> 3\u001b[0;31m     \u001b[0;32mreturn\u001b[0m\u001b[0;34m(\u001b[0m\u001b[0mlen\u001b[0m\u001b[0;34m(\u001b[0m\u001b[0mlis\u001b[0m\u001b[0;34m)\u001b[0m\u001b[0;34m-\u001b[0m\u001b[0;36m1\u001b[0m\u001b[0;34m)\u001b[0m\u001b[0;34m\u001b[0m\u001b[0;34m\u001b[0m\u001b[0m\n\u001b[0m\u001b[1;32m      4\u001b[0m \u001b[0mcuadradoFun\u001b[0m \u001b[0;34m(\u001b[0m\u001b[0mf\u001b[0m\u001b[0;34m,\u001b[0m\u001b[0;34m[\u001b[0m\u001b[0;36m2\u001b[0m\u001b[0;34m]\u001b[0m\u001b[0;34m)\u001b[0m\u001b[0;34m\u001b[0m\u001b[0;34m\u001b[0m\u001b[0m\n",
            "\u001b[0;31mTypeError\u001b[0m: object of type 'int' has no len()"
          ]
        }
      ],
      "source": [
        "#El siguiente script produce error al ejecutarse\n",
        "def f(lis):\n",
        "    return(len(lis)-1)\n",
        "cuadradoFun (f,[2])"
      ]
    },
    {
      "cell_type": "code",
      "execution_count": 11,
      "metadata": {
        "id": "4-4oUfgcjAUU",
        "outputId": "170d12e0-fe9c-4dbd-8a29-2a90b95400d8",
        "colab": {
          "base_uri": "https://localhost:8080/"
        }
      },
      "outputs": [
        {
          "output_type": "execute_result",
          "data": {
            "text/plain": [
              "16"
            ]
          },
          "metadata": {},
          "execution_count": 11
        }
      ],
      "source": [
        "#La usamos tal cual, usando (el objeto función) doble como parámetro en la llamada\n",
        "cuadradoFun (doble,4)"
      ]
    },
    {
      "cell_type": "code",
      "execution_count": 12,
      "metadata": {
        "id": "p6RvUsO6jAUU"
      },
      "outputs": [],
      "source": [
        "#Con ella podemos calcular el cuadrado de cualquier función de un tipo en sí mismo.\n",
        "#La redefinimos\n",
        "def cuadruple(x):\n",
        "    return(cuadradoFun(doble,x))\n",
        "def triple(x):\n",
        "    return 3*x\n",
        "def porNueve(x):\n",
        "     return(cuadradoFun(triple,x))"
      ]
    },
    {
      "cell_type": "code",
      "execution_count": 13,
      "metadata": {
        "id": "vw6nTg4ijAUX",
        "outputId": "e6b6172a-1976-40ef-eae6-fc4c4acca280",
        "colab": {
          "base_uri": "https://localhost:8080/"
        }
      },
      "outputs": [
        {
          "output_type": "execute_result",
          "data": {
            "text/plain": [
              "36"
            ]
          },
          "metadata": {},
          "execution_count": 13
        }
      ],
      "source": [
        "porNueve(4)\n"
      ]
    },
    {
      "cell_type": "code",
      "execution_count": 14,
      "metadata": {
        "id": "dgwiuT8FjAUY",
        "outputId": "2ca77c6b-9222-4f74-bd07-a799f5641641",
        "colab": {
          "base_uri": "https://localhost:8080/"
        }
      },
      "outputs": [
        {
          "output_type": "execute_result",
          "data": {
            "text/plain": [
              "[0, 1, 2]"
            ]
          },
          "metadata": {},
          "execution_count": 14
        }
      ],
      "source": [
        "def listar (x):\n",
        "    return(list(x))\n",
        "listar(range(3))"
      ]
    },
    {
      "cell_type": "code",
      "execution_count": 15,
      "metadata": {
        "id": "U8caunCyjAUZ",
        "outputId": "1f78d130-2251-48ed-ed45-aa77ea14e215",
        "colab": {
          "base_uri": "https://localhost:8080/"
        }
      },
      "outputs": [
        {
          "output_type": "execute_result",
          "data": {
            "text/plain": [
              "[0, 1, 2]"
            ]
          },
          "metadata": {},
          "execution_count": 15
        }
      ],
      "source": [
        "#listar una lista es la función identidad\n",
        "cuadradoFun(listar,range(3))"
      ]
    },
    {
      "cell_type": "code",
      "execution_count": 16,
      "metadata": {
        "id": "VLqWytMgjAUZ"
      },
      "outputs": [],
      "source": [
        "def toPar(x):\n",
        "    return((x,x))"
      ]
    },
    {
      "cell_type": "code",
      "execution_count": 17,
      "metadata": {
        "id": "aKuHDUTVjAUZ",
        "outputId": "4b2f2042-853d-4f9c-a3df-4c9841cce7d2",
        "colab": {
          "base_uri": "https://localhost:8080/"
        }
      },
      "outputs": [
        {
          "output_type": "execute_result",
          "data": {
            "text/plain": [
              "((3, 3), (3, 3))"
            ]
          },
          "metadata": {},
          "execution_count": 17
        }
      ],
      "source": [
        "cuadradoFun(toPar,3)"
      ]
    },
    {
      "cell_type": "code",
      "execution_count": 18,
      "metadata": {
        "id": "d1laFWP7jAUZ",
        "outputId": "5fc50c7f-73fc-4bcb-f644-74310ffdbbeb",
        "colab": {
          "base_uri": "https://localhost:8080/"
        }
      },
      "outputs": [
        {
          "output_type": "stream",
          "name": "stdout",
          "text": [
            "None\n"
          ]
        }
      ],
      "source": [
        "def mala(x):\n",
        "    if (x==None):\n",
        "        return 1;\n",
        "    else:\n",
        "        return None;\n",
        "cuadradoFun (mala,2)\n",
        "print(cuadradoFun (mala,None))"
      ]
    },
    {
      "cell_type": "code",
      "execution_count": 19,
      "metadata": {
        "id": "bLvu0RxBjAUZ",
        "outputId": "7f5ab74f-81ae-4c1c-f79c-878438ac5552",
        "colab": {
          "base_uri": "https://localhost:8080/"
        }
      },
      "outputs": [
        {
          "output_type": "stream",
          "name": "stdout",
          "text": [
            "<function cuadradoFun1 at 0x78cf0bae20c0>\n"
          ]
        }
      ],
      "source": [
        "#En programación funcional resulta muy útil hacer \"secciones\"\n",
        "#Para hacer, a mano, secciones de una función de varios argumentos,\n",
        "#lo podemos hacer mediante una \"clausura\"\n",
        "#Devolvemos una función definida localmente\n",
        "def cuadradoFun1(x):\n",
        "    def g (y):\n",
        "        return (cuadradoFun(x, y))\n",
        "    return(g)\n",
        "print(cuadradoFun1)"
      ]
    },
    {
      "cell_type": "code",
      "execution_count": 20,
      "metadata": {
        "id": "sayFJaxGjAUZ",
        "outputId": "22203afc-db4b-4ed5-a373-df4b29462c0d",
        "colab": {
          "base_uri": "https://localhost:8080/",
          "height": 104
        }
      },
      "outputs": [
        {
          "output_type": "execute_result",
          "data": {
            "text/plain": [
              "<function __main__.cuadradoFun1.<locals>.g(y)>"
            ],
            "text/html": [
              "<div style=\"max-width:800px; border: 1px solid var(--colab-border-color);\"><style>\n",
              "      pre.function-repr-contents {\n",
              "        overflow-x: auto;\n",
              "        padding: 8px 12px;\n",
              "        max-height: 500px;\n",
              "      }\n",
              "\n",
              "      pre.function-repr-contents.function-repr-contents-collapsed {\n",
              "        cursor: pointer;\n",
              "        max-height: 100px;\n",
              "      }\n",
              "    </style>\n",
              "    <pre style=\"white-space: initial; background:\n",
              "         var(--colab-secondary-surface-color); padding: 8px 12px;\n",
              "         border-bottom: 1px solid var(--colab-border-color);\"><b>cuadradoFun1.&lt;locals&gt;.g</b><br/>def g(y)</pre><pre class=\"function-repr-contents function-repr-contents-collapsed\" style=\"\"><a class=\"filepath\" style=\"display:none\" href=\"#\">/tmp/ipython-input-4257183560.py</a>&lt;no docstring&gt;</pre></div>"
            ]
          },
          "metadata": {},
          "execution_count": 20
        }
      ],
      "source": [
        "cuadruple=cuadradoFun1(doble)\n",
        "cuadruple"
      ]
    },
    {
      "cell_type": "code",
      "execution_count": 21,
      "metadata": {
        "id": "jei8-OpdjAUa"
      },
      "outputs": [],
      "source": [
        "del doble"
      ]
    },
    {
      "cell_type": "code",
      "execution_count": 22,
      "metadata": {
        "id": "hmOj-_rLjAUa",
        "outputId": "786c706c-bab7-43f4-aa07-95edd063bedf",
        "colab": {
          "base_uri": "https://localhost:8080/"
        }
      },
      "outputs": [
        {
          "output_type": "execute_result",
          "data": {
            "text/plain": [
              "16"
            ]
          },
          "metadata": {},
          "execution_count": 22
        }
      ],
      "source": [
        "cuadruple(4)"
      ]
    },
    {
      "cell_type": "code",
      "execution_count": 23,
      "metadata": {
        "scrolled": true,
        "id": "wu4cKuL-jAUa",
        "outputId": "1a40be33-08d7-4343-f276-710dba92f412",
        "colab": {
          "base_uri": "https://localhost:8080/"
        }
      },
      "outputs": [
        {
          "output_type": "execute_result",
          "data": {
            "text/plain": [
              "['In',\n",
              " 'Out',\n",
              " '_',\n",
              " '_11',\n",
              " '_13',\n",
              " '_14',\n",
              " '_15',\n",
              " '_17',\n",
              " '_2',\n",
              " '_20',\n",
              " '_22',\n",
              " '_3',\n",
              " '_4',\n",
              " '_5',\n",
              " '_7',\n",
              " '_9',\n",
              " '__',\n",
              " '___',\n",
              " '__builtin__',\n",
              " '__builtins__',\n",
              " '__doc__',\n",
              " '__loader__',\n",
              " '__name__',\n",
              " '__package__',\n",
              " '__spec__',\n",
              " '_dh',\n",
              " '_i',\n",
              " '_i1',\n",
              " '_i10',\n",
              " '_i11',\n",
              " '_i12',\n",
              " '_i13',\n",
              " '_i14',\n",
              " '_i15',\n",
              " '_i16',\n",
              " '_i17',\n",
              " '_i18',\n",
              " '_i19',\n",
              " '_i2',\n",
              " '_i20',\n",
              " '_i21',\n",
              " '_i22',\n",
              " '_i23',\n",
              " '_i3',\n",
              " '_i4',\n",
              " '_i5',\n",
              " '_i6',\n",
              " '_i7',\n",
              " '_i8',\n",
              " '_i9',\n",
              " '_ih',\n",
              " '_ii',\n",
              " '_iii',\n",
              " '_oh',\n",
              " 'cuadradoFun',\n",
              " 'cuadradoFun1',\n",
              " 'cuadruple',\n",
              " 'exit',\n",
              " 'f',\n",
              " 'get_ipython',\n",
              " 'listar',\n",
              " 'mala',\n",
              " 'porNueve',\n",
              " 'quit',\n",
              " 'toPar',\n",
              " 'triple']"
            ]
          },
          "metadata": {},
          "execution_count": 23
        }
      ],
      "source": [
        "# g es local\n",
        "dir()"
      ]
    },
    {
      "cell_type": "code",
      "execution_count": 24,
      "metadata": {
        "id": "hsPlKH_FjAUa"
      },
      "outputs": [],
      "source": [
        "def cuadradoFun2(x):\n",
        "    def g(y):\n",
        "        return (cuadradoFun(y, x))\n",
        "    return(g)"
      ]
    },
    {
      "cell_type": "code",
      "execution_count": 25,
      "metadata": {
        "id": "1A-FS8JCjAUb"
      },
      "outputs": [],
      "source": [
        "dobleFunSobre4=cuadradoFun2(4)"
      ]
    },
    {
      "cell_type": "code",
      "execution_count": 26,
      "metadata": {
        "id": "ndOnK-AYjAUb",
        "outputId": "b0331d2d-a7a3-488e-8650-4f5047d6fbe4",
        "colab": {
          "base_uri": "https://localhost:8080/",
          "height": 141
        }
      },
      "outputs": [
        {
          "output_type": "error",
          "ename": "NameError",
          "evalue": "name 'doble' is not defined",
          "traceback": [
            "\u001b[0;31m---------------------------------------------------------------------------\u001b[0m",
            "\u001b[0;31mNameError\u001b[0m                                 Traceback (most recent call last)",
            "\u001b[0;32m/tmp/ipython-input-83624009.py\u001b[0m in \u001b[0;36m<cell line: 0>\u001b[0;34m()\u001b[0m\n\u001b[0;32m----> 1\u001b[0;31m \u001b[0mdobleFunSobre4\u001b[0m\u001b[0;34m(\u001b[0m\u001b[0mdoble\u001b[0m\u001b[0;34m)\u001b[0m\u001b[0;34m\u001b[0m\u001b[0;34m\u001b[0m\u001b[0m\n\u001b[0m",
            "\u001b[0;31mNameError\u001b[0m: name 'doble' is not defined"
          ]
        }
      ],
      "source": [
        "dobleFunSobre4(doble)"
      ]
    },
    {
      "cell_type": "code",
      "execution_count": 30,
      "metadata": {
        "id": "CJgCw8JRjAUb",
        "outputId": "a93d7c04-ea5c-46dd-f912-c6d062ade6ca",
        "colab": {
          "base_uri": "https://localhost:8080/"
        }
      },
      "outputs": [
        {
          "output_type": "execute_result",
          "data": {
            "text/plain": [
              "8"
            ]
          },
          "metadata": {},
          "execution_count": 30
        }
      ],
      "source": [
        "#Las expresiones lambda permiten definir funciones anónimas,\n",
        "#son una pieza clave en programación funcional\n",
        "#Python permite expresiones lambda muy limitadas\n",
        "#Con expresiones lambda evitamos nombrar la función local\n",
        "def cuadradoFun1Lambda(x):\n",
        "    return(lambda y: cuadradoFun(x,y))\n",
        "d=cuadradoFun1Lambda(doble)\n",
        "d(2)"
      ]
    },
    {
      "cell_type": "code",
      "execution_count": 29,
      "metadata": {
        "id": "hdTNf484jAUb",
        "outputId": "2471aad4-b731-4cb3-df65-f9ed0a82ec4e",
        "colab": {
          "base_uri": "https://localhost:8080/"
        }
      },
      "outputs": [
        {
          "output_type": "execute_result",
          "data": {
            "text/plain": [
              "16"
            ]
          },
          "metadata": {},
          "execution_count": 29
        }
      ],
      "source": [
        "def cuadradoFun2Lambda(x):\n",
        "    return(lambda y: cuadradoFun(y,x))\n",
        "d=cuadradoFun2Lambda(4)\n",
        "d(doble)"
      ]
    },
    {
      "cell_type": "code",
      "execution_count": 31,
      "metadata": {
        "id": "qmMT3sanjAUb",
        "outputId": "bf10955b-f1c1-4e0b-9bce-0d4423b37be2",
        "colab": {
          "base_uri": "https://localhost:8080/"
        }
      },
      "outputs": [
        {
          "output_type": "execute_result",
          "data": {
            "text/plain": [
              "[('b', 'Lugo'), ('a', 'Zaragoza')]"
            ]
          },
          "metadata": {},
          "execution_count": 31
        }
      ],
      "source": [
        "#El método sort tiene un parámetro que es función\n",
        "#Disponemos de un método para ordenar listas\n",
        "#Admite como parámetro la función con la que ordenar los datos\n",
        "datos=[('a', 'Zaragoza'), ('b', 'Lugo')]\n",
        "datos.sort (key=lambda par: par[1])\n",
        "datos\n"
      ]
    },
    {
      "cell_type": "code",
      "execution_count": 32,
      "metadata": {
        "id": "7MQcRmDIjAUc"
      },
      "outputs": [],
      "source": [
        "#Con ello podemos construir una función para ordenar una lista de pares, lo que\n",
        "#equivale a un diccionario, por la clave:\n",
        "\n",
        "def ordenaParesClave(listaP):\n",
        "    return(listaP.sort(key=lambda par: (par[0])))\n",
        "\n",
        "\n"
      ]
    },
    {
      "cell_type": "code",
      "execution_count": 33,
      "metadata": {
        "id": "92hFqLqzjAUc",
        "outputId": "3f0c9296-b14c-4d9b-86c5-5e2614fe938e",
        "colab": {
          "base_uri": "https://localhost:8080/"
        }
      },
      "outputs": [
        {
          "output_type": "execute_result",
          "data": {
            "text/plain": [
              "[('a', 'Lugo'), ('b', 'Zaragoza')]"
            ]
          },
          "metadata": {},
          "execution_count": 33
        }
      ],
      "source": [
        "datos=[('b', 'Zaragoza'), ('a', 'Lugo')]\n",
        "ordenaParesClave(datos)\n",
        "datos"
      ]
    },
    {
      "cell_type": "code",
      "execution_count": 34,
      "metadata": {
        "id": "sFPeKgtPjAUc",
        "outputId": "709c6ef4-df97-4ff5-e8a5-68047ce10700",
        "colab": {
          "base_uri": "https://localhost:8080/"
        }
      },
      "outputs": [
        {
          "output_type": "stream",
          "name": "stdout",
          "text": [
            "[(1, 'Zaragoza'), (2, 'Lugo')]\n"
          ]
        }
      ],
      "source": [
        "#Método destructivo, listas son objetos mutables.\n",
        "\n",
        "def ordenParesNoDest(lista):\n",
        "    l=lista.copy()\n",
        "    l.sort(key=lambda par: par[0])\n",
        "    return l\n",
        "\n",
        "miLista=[(2,\"Lugo\"),(1,\"Zaragoza\")]\n",
        "print(ordenParesNoDest (miLista))\n",
        "\n"
      ]
    },
    {
      "cell_type": "code",
      "execution_count": 35,
      "metadata": {
        "id": "_Vs--38bjAUc",
        "outputId": "dbc4cfe2-2c55-46b8-af73-1a37c76d7b51",
        "colab": {
          "base_uri": "https://localhost:8080/"
        }
      },
      "outputs": [
        {
          "output_type": "execute_result",
          "data": {
            "text/plain": [
              "[(2, 'Lugo'), (1, 'Zaragoza')]"
            ]
          },
          "metadata": {},
          "execution_count": 35
        }
      ],
      "source": [
        "miLista"
      ]
    },
    {
      "cell_type": "markdown",
      "metadata": {
        "id": "QCj3hRk1jAUc"
      },
      "source": [
        "Repasamos ahora algunas de las funciones de alto nivel características  de la Prog. Funcional.\n",
        "En jerga de Python se denominan map, filter y reduce.\n",
        "Antes de ello, repasamos la explicación sobre iteradores de los apuntes de van Rossum y Drake: \"Functional Programming HOWTO\"."
      ]
    },
    {
      "cell_type": "markdown",
      "metadata": {
        "id": "wvDzesUvjAUd"
      },
      "source": [
        "## Filter"
      ]
    },
    {
      "cell_type": "code",
      "execution_count": 40,
      "metadata": {
        "id": "Uxl4UlktjAUd",
        "outputId": "141a25a3-1510-4551-d991-94d2ac216d9a",
        "colab": {
          "base_uri": "https://localhost:8080/"
        }
      },
      "outputs": [
        {
          "output_type": "execute_result",
          "data": {
            "text/plain": [
              "[2, 7]"
            ]
          },
          "metadata": {},
          "execution_count": 40
        }
      ],
      "source": [
        "#En realidad, el mecanismo de listas por comprensión se basa en las funciones de orden superior map y filter\n",
        "#En python3 se han modificado para que proporcionen iteradores (imap, ifilter)\n",
        "\n",
        "def divisoresPropios (n):\n",
        "  l=[]\n",
        "  for x in range(2,n):\n",
        "          if n%x==0: l.append(x)\n",
        "  return(l)\n",
        "\n",
        "def primo (n):\n",
        "  return( (n>1) and (divisoresPropios(n)==[]))\n",
        "\n",
        "#Usamos filter, filtrando por la propiedad primo. Construye un objeto filter, que es iterable\n",
        "l=list(filter(primo,[ 2,4,6,7]))\n",
        "l"
      ]
    },
    {
      "cell_type": "code",
      "execution_count": 37,
      "metadata": {
        "id": "3WB4LtHWjAUd",
        "outputId": "70df6680-db4c-4903-987d-9ffecdaf2a1e",
        "colab": {
          "base_uri": "https://localhost:8080/"
        }
      },
      "outputs": [
        {
          "output_type": "stream",
          "name": "stdout",
          "text": [
            "Help on class filter in module builtins:\n",
            "\n",
            "class filter(object)\n",
            " |  filter(function or None, iterable) --> filter object\n",
            " |\n",
            " |  Return an iterator yielding those items of iterable for which function(item)\n",
            " |  is true. If function is None, return the items that are true.\n",
            " |\n",
            " |  Methods defined here:\n",
            " |\n",
            " |  __getattribute__(self, name, /)\n",
            " |      Return getattr(self, name).\n",
            " |\n",
            " |  __iter__(self, /)\n",
            " |      Implement iter(self).\n",
            " |\n",
            " |  __next__(self, /)\n",
            " |      Implement next(self).\n",
            " |\n",
            " |  __reduce__(...)\n",
            " |      Return state information for pickling.\n",
            " |\n",
            " |  ----------------------------------------------------------------------\n",
            " |  Static methods defined here:\n",
            " |\n",
            " |  __new__(*args, **kwargs)\n",
            " |      Create and return a new object.  See help(type) for accurate signature.\n",
            "\n"
          ]
        }
      ],
      "source": [
        "help(filter)\n"
      ]
    },
    {
      "cell_type": "code",
      "execution_count": 41,
      "metadata": {
        "id": "QfypZY6hjAUd",
        "outputId": "855c77ef-62e8-4209-8a4b-e1f18a469020",
        "colab": {
          "base_uri": "https://localhost:8080/"
        }
      },
      "outputs": [
        {
          "output_type": "execute_result",
          "data": {
            "text/plain": [
              "[7]"
            ]
          },
          "metadata": {},
          "execution_count": 41
        }
      ],
      "source": [
        "list(filter (primo and (lambda x: x % 2!=0), [2,4,7]))\n"
      ]
    },
    {
      "cell_type": "markdown",
      "metadata": {
        "id": "eu47XxJojAUh"
      },
      "source": [
        "## La función map\n"
      ]
    },
    {
      "cell_type": "code",
      "execution_count": 42,
      "metadata": {
        "id": "QfTvOHX4jAUh",
        "outputId": "d612d3bb-be51-4b57-b4a2-65ea6e4477f3",
        "colab": {
          "base_uri": "https://localhost:8080/"
        }
      },
      "outputs": [
        {
          "output_type": "execute_result",
          "data": {
            "text/plain": [
              "[4, 6, 8, 10, 12]"
            ]
          },
          "metadata": {},
          "execution_count": 42
        }
      ],
      "source": [
        "#Usamos la función map con una función como argumento y, además, algo iterable (puede ser una colección de iteradores)\n",
        "#devuelve un iterador\n",
        "suma4=lambda x:x+4\n",
        "l=map (suma4, range(0,10,2))\n",
        "list(l)\n"
      ]
    },
    {
      "cell_type": "code",
      "execution_count": 43,
      "metadata": {
        "id": "CKf2Uaw1jAUh",
        "outputId": "73ec4115-d017-4da8-d0f6-95ebcf04aba5",
        "colab": {
          "base_uri": "https://localhost:8080/",
          "height": 158
        }
      },
      "outputs": [
        {
          "output_type": "error",
          "ename": "TypeError",
          "evalue": "map() must have at least two arguments.",
          "traceback": [
            "\u001b[0;31m---------------------------------------------------------------------------\u001b[0m",
            "\u001b[0;31mTypeError\u001b[0m                                 Traceback (most recent call last)",
            "\u001b[0;32m/tmp/ipython-input-3750653772.py\u001b[0m in \u001b[0;36m<cell line: 0>\u001b[0;34m()\u001b[0m\n\u001b[1;32m      1\u001b[0m \u001b[0;31m#No la podemos parcializar directamente\u001b[0m\u001b[0;34m\u001b[0m\u001b[0;34m\u001b[0m\u001b[0m\n\u001b[0;32m----> 2\u001b[0;31m \u001b[0mg\u001b[0m\u001b[0;34m=\u001b[0m\u001b[0mmap\u001b[0m\u001b[0;34m(\u001b[0m\u001b[0;32mlambda\u001b[0m \u001b[0mx\u001b[0m\u001b[0;34m:\u001b[0m \u001b[0mx\u001b[0m\u001b[0;34m+\u001b[0m\u001b[0;36m4\u001b[0m\u001b[0;34m)\u001b[0m\u001b[0;34m\u001b[0m\u001b[0;34m\u001b[0m\u001b[0m\n\u001b[0m",
            "\u001b[0;31mTypeError\u001b[0m: map() must have at least two arguments."
          ]
        }
      ],
      "source": [
        "#No la podemos parcializar directamente\n",
        "g=map(lambda x: x+4)\n"
      ]
    },
    {
      "cell_type": "code",
      "execution_count": 44,
      "metadata": {
        "id": "D5BRYiRdjAUh"
      },
      "outputs": [],
      "source": [
        "#Pero lo podemos hacer, devolviendo una función\n",
        "def sumaCuatro (lista):\n",
        "    return list(map(lambda x: x+4, lista))\n"
      ]
    },
    {
      "cell_type": "code",
      "execution_count": 45,
      "metadata": {
        "id": "ZMdttjqujAUi",
        "outputId": "8472d8b5-8c9f-4801-bfdc-deecf4b6f354",
        "colab": {
          "base_uri": "https://localhost:8080/"
        }
      },
      "outputs": [
        {
          "output_type": "execute_result",
          "data": {
            "text/plain": [
              "[5, 7]"
            ]
          },
          "metadata": {},
          "execution_count": 45
        }
      ],
      "source": [
        "sumaCuatro([1,3])"
      ]
    },
    {
      "cell_type": "code",
      "execution_count": 46,
      "metadata": {
        "id": "bdHTm6J7jAUi"
      },
      "outputs": [],
      "source": [
        "#La usamos ahora con una función de más argumentos\n",
        "producto=lambda x:lambda y: x*y\n",
        "#uso: producto(3)(4)\n",
        "producto=lambda x, y: x*y\n",
        "#uso:producto(3,4)"
      ]
    },
    {
      "cell_type": "code",
      "execution_count": 47,
      "metadata": {
        "id": "7krmtu0CjAUi",
        "outputId": "2ae0aaba-88c8-4dc1-aa61-a9ed15fd54e3",
        "colab": {
          "base_uri": "https://localhost:8080/"
        }
      },
      "outputs": [
        {
          "output_type": "execute_result",
          "data": {
            "text/plain": [
              "[8, 12, 16, 30, 36]"
            ]
          },
          "metadata": {},
          "execution_count": 47
        }
      ],
      "source": [
        "list(map (producto, sumaCuatro(list(range(0,10,2))), [2,2,2,3,3]))"
      ]
    },
    {
      "cell_type": "code",
      "execution_count": 48,
      "metadata": {
        "id": "IxjJVBhojAUi",
        "outputId": "62b070ed-2032-4962-f50c-b0cd95a84f3f",
        "colab": {
          "base_uri": "https://localhost:8080/"
        }
      },
      "outputs": [
        {
          "output_type": "stream",
          "name": "stdout",
          "text": [
            "Help on class map in module builtins:\n",
            "\n",
            "class map(object)\n",
            " |  map(func, *iterables) --> map object\n",
            " |\n",
            " |  Make an iterator that computes the function using arguments from\n",
            " |  each of the iterables.  Stops when the shortest iterable is exhausted.\n",
            " |\n",
            " |  Methods defined here:\n",
            " |\n",
            " |  __getattribute__(self, name, /)\n",
            " |      Return getattr(self, name).\n",
            " |\n",
            " |  __iter__(self, /)\n",
            " |      Implement iter(self).\n",
            " |\n",
            " |  __next__(self, /)\n",
            " |      Implement next(self).\n",
            " |\n",
            " |  __reduce__(...)\n",
            " |      Return state information for pickling.\n",
            " |\n",
            " |  ----------------------------------------------------------------------\n",
            " |  Static methods defined here:\n",
            " |\n",
            " |  __new__(*args, **kwargs)\n",
            " |      Create and return a new object.  See help(type) for accurate signature.\n",
            "\n"
          ]
        }
      ],
      "source": [
        "help(map)"
      ]
    },
    {
      "cell_type": "code",
      "execution_count": 49,
      "metadata": {
        "id": "a-cATUbQjAUi",
        "outputId": "89a5db5e-3b3b-41a6-e900-0618be78b58f",
        "colab": {
          "base_uri": "https://localhost:8080/"
        }
      },
      "outputs": [
        {
          "output_type": "execute_result",
          "data": {
            "text/plain": [
              "[5, 6]"
            ]
          },
          "metadata": {},
          "execution_count": 49
        }
      ],
      "source": [
        "#Vamos a ver el mecanismo de listas por comprensión mediante map y filter\n",
        "def listaCompBasica(funcion,iterable):\n",
        "    #calcula el iterable: (funcion(x) for x in iterable)\n",
        "    return(map(funcion,iterable))\n",
        "\n",
        "def listaCompAPelo(funcion , iterable, filtro):\n",
        "    #calcula el iterable(funcion(x) for x in iterable if filtro(x))\n",
        "    return(map(funcion, filter(filtro,iterable)))\n",
        "list(listaCompBasica(suma4, [1,2]))\n",
        "#list(listaCompAPelo(suma4, range(10),primo))"
      ]
    },
    {
      "cell_type": "markdown",
      "metadata": {
        "id": "yQjFhL5_jAUj"
      },
      "source": [
        "## La función reduce"
      ]
    },
    {
      "cell_type": "code",
      "execution_count": 50,
      "metadata": {
        "id": "WX69AyvEjAUj",
        "outputId": "b4b676e6-ea88-46ec-f5fb-9b5991167af9",
        "colab": {
          "base_uri": "https://localhost:8080/"
        }
      },
      "outputs": [
        {
          "output_type": "execute_result",
          "data": {
            "text/plain": [
              "5"
            ]
          },
          "metadata": {},
          "execution_count": 50
        }
      ],
      "source": [
        "#reduce permite \"reducir\" los elementos de una lista\n",
        "#haciendo reducciones ordenadas por una función de dos argumentos.\n",
        "\n",
        "#Responde al patrón fold en lenguajes funcionales tipo Haskell\n",
        "import functools\n",
        "def sumaLista (lis):\n",
        "    #Una definición de una función local\n",
        "    def miSuma (x,y):\n",
        "        return (lambda x,y: x+y)(x,y)\n",
        "    return(functools.reduce (miSuma, lis, 0))\n",
        "\n",
        "sumaLista([2,3])\n"
      ]
    },
    {
      "cell_type": "code",
      "source": [
        "help(functools.reduce)"
      ],
      "metadata": {
        "id": "x0i64WZkkqDD",
        "outputId": "5688fa53-e3a2-48b1-9665-c2f054c5f82b",
        "colab": {
          "base_uri": "https://localhost:8080/"
        }
      },
      "execution_count": 51,
      "outputs": [
        {
          "output_type": "stream",
          "name": "stdout",
          "text": [
            "Help on built-in function reduce in module _functools:\n",
            "\n",
            "reduce(...)\n",
            "    reduce(function, iterable[, initial]) -> value\n",
            "\n",
            "    Apply a function of two arguments cumulatively to the items of an iterable, from left to right.\n",
            "\n",
            "    This effectively reduces the iterable to a single value.  If initial is present,\n",
            "    it is placed before the items of the iterable in the calculation, and serves as\n",
            "    a default when the iterable is empty.\n",
            "\n",
            "    For example, reduce(lambda x, y: x+y, [1, 2, 3, 4, 5])\n",
            "    calculates ((((1 + 2) + 3) + 4) + 5).\n",
            "\n"
          ]
        }
      ]
    },
    {
      "cell_type": "code",
      "execution_count": 53,
      "metadata": {
        "id": "XCw90AY9jAUj",
        "outputId": "9f6ae16a-9bfd-4f82-e665-4b1cb8d7746a",
        "colab": {
          "base_uri": "https://localhost:8080/"
        }
      },
      "outputs": [
        {
          "output_type": "execute_result",
          "data": {
            "text/plain": [
              "22"
            ]
          },
          "metadata": {},
          "execution_count": 53
        }
      ],
      "source": [
        "def sumaLista (lis):\n",
        "    #Sin necesidad de definir una función local\n",
        "\n",
        "    return(functools.reduce ((lambda x,y:x+y), lis, 17))\n",
        "\n",
        "sumaLista([2,3])\n"
      ]
    },
    {
      "cell_type": "code",
      "execution_count": 54,
      "metadata": {
        "id": "J2KcenwNjAUj",
        "outputId": "bfae83fd-8c56-48a4-e1c6-39b7fdcc6a93",
        "colab": {
          "base_uri": "https://localhost:8080/"
        }
      },
      "outputs": [
        {
          "output_type": "stream",
          "name": "stdout",
          "text": [
            "Object `miSuma` not found.\n"
          ]
        }
      ],
      "source": [
        "#Pruebas de alcance\n",
        "#sumaLista?\n",
        "miSuma?"
      ]
    },
    {
      "cell_type": "code",
      "execution_count": 55,
      "metadata": {
        "id": "PvxJgE7bjAUj",
        "outputId": "c2f211a7-c0a3-4f4d-f0f4-2574e4657602",
        "colab": {
          "base_uri": "https://localhost:8080/"
        }
      },
      "outputs": [
        {
          "output_type": "execute_result",
          "data": {
            "text/plain": [
              "17"
            ]
          },
          "metadata": {},
          "execution_count": 55
        }
      ],
      "source": [
        "#El tercer parámetro es opcional\n",
        "sumaLista([])"
      ]
    },
    {
      "cell_type": "code",
      "execution_count": 58,
      "metadata": {
        "id": "GNi1T5sIjAUk",
        "outputId": "46da7d9e-c80f-4c3f-ee28-ab2a1ef68026",
        "colab": {
          "base_uri": "https://localhost:8080/"
        }
      },
      "outputs": [
        {
          "output_type": "execute_result",
          "data": {
            "text/plain": [
              "30"
            ]
          },
          "metadata": {},
          "execution_count": 58
        }
      ],
      "source": [
        "import operator\n",
        "def prodLista (lis):\n",
        "\n",
        "    return(functools.reduce (operator.mul,lis))\n",
        "prodLista([3,10])"
      ]
    },
    {
      "cell_type": "markdown",
      "source": [
        "## Generadores"
      ],
      "metadata": {
        "id": "qQQAt59glyUF"
      }
    },
    {
      "cell_type": "code",
      "source": [
        "#Los generadores nos permiten construir iteradores. Definición de un generador\n",
        "#Observar que se debe guardar el contexto local\n",
        "def generador(N):\n",
        "    for i in range(N):\n",
        "        yield i"
      ],
      "metadata": {
        "id": "PNmlKojPlzc5"
      },
      "execution_count": 59,
      "outputs": []
    },
    {
      "cell_type": "code",
      "source": [
        "#Usamos el generador anterior\n",
        "g=generador(2)\n",
        "#l=list(g); l\n",
        "#g.__next__()\n",
        "#g.__next__()\n",
        "#g.__next__()\n",
        "a,b=g ;print(a,b)"
      ],
      "metadata": {
        "id": "Pv7_l9Pcl0Rh",
        "outputId": "bf7bdefe-4806-4204-e530-c1d8fe881038",
        "colab": {
          "base_uri": "https://localhost:8080/"
        }
      },
      "execution_count": 60,
      "outputs": [
        {
          "output_type": "stream",
          "name": "stdout",
          "text": [
            "0 1\n"
          ]
        }
      ]
    },
    {
      "cell_type": "code",
      "source": [
        "#Pasar valores a un generador\n",
        "def generadorModificable (maximum):\n",
        "    i = 0\n",
        "    while i < maximum:\n",
        "        val = (yield i)\n",
        "        if val is not None:\n",
        "            i = val\n",
        "        else:i += 1"
      ],
      "metadata": {
        "id": "isAEQK5Wl1SL"
      },
      "execution_count": 61,
      "outputs": []
    },
    {
      "cell_type": "code",
      "source": [
        "#Usar el generador anterior\n",
        "g=generadorModificable(5)\n",
        "g.__next__()\n",
        "g.send(3)\n",
        "g.__next__()"
      ],
      "metadata": {
        "id": "scdBaBzpl79a",
        "outputId": "c71e836e-2e81-4877-d9ea-471c1edcfe47",
        "colab": {
          "base_uri": "https://localhost:8080/"
        }
      },
      "execution_count": 62,
      "outputs": [
        {
          "output_type": "execute_result",
          "data": {
            "text/plain": [
              "4"
            ]
          },
          "metadata": {},
          "execution_count": 62
        }
      ]
    },
    {
      "cell_type": "code",
      "source": [
        "help(g.send)"
      ],
      "metadata": {
        "id": "qMEDyXrImC3U",
        "outputId": "c2ded281-59c1-4829-a641-94edf3da7563",
        "colab": {
          "base_uri": "https://localhost:8080/"
        }
      },
      "execution_count": 63,
      "outputs": [
        {
          "output_type": "stream",
          "name": "stdout",
          "text": [
            "Help on built-in function send:\n",
            "\n",
            "send(...) method of builtins.generator instance\n",
            "    send(arg) -> send 'arg' into generator,\n",
            "    return next yielded value or raise StopIteration.\n",
            "\n"
          ]
        }
      ]
    },
    {
      "cell_type": "code",
      "source": [
        "g=generadorModificable(5)\n",
        "for i in g: # for i in iter(g)\n",
        "    print(i,end=\" \")"
      ],
      "metadata": {
        "id": "W-MHUQwZl8_K",
        "outputId": "3a5ba5b0-1d19-447f-f5aa-5548a3395a68",
        "colab": {
          "base_uri": "https://localhost:8080/"
        }
      },
      "execution_count": 64,
      "outputs": [
        {
          "output_type": "stream",
          "name": "stdout",
          "text": [
            "0 1 2 3 4 "
          ]
        }
      ]
    },
    {
      "cell_type": "markdown",
      "source": [
        "## Itertools"
      ],
      "metadata": {
        "id": "304JQ0GmmL-b"
      }
    },
    {
      "cell_type": "code",
      "source": [
        "#El módulo intertools proporciona algunos constructores de iteradores útiles y métodos para combinar iteradores\n",
        "#Conviene revisar el correspondiente apartado (7) de los apuntes de van Rossum y Drake ya referenciados\n",
        "import itertools\n",
        "#Constuimos un iterador con un flujo potencialmente infinito (numeros mayores que 10).\n",
        "f=itertools.count(10)\n",
        "\n"
      ],
      "metadata": {
        "id": "3eRBhGzsmCPo"
      },
      "execution_count": 1,
      "outputs": []
    },
    {
      "cell_type": "code",
      "source": [
        "#Si ejecutas..... palma\n",
        "#list(f)"
      ],
      "metadata": {
        "id": "ipN9KwSbmV9A"
      },
      "execution_count": null,
      "outputs": []
    },
    {
      "cell_type": "code",
      "source": [
        "#iteradores potencialmente infinitos\n",
        "#Como no calcula sus datos no hay problema de definición.\n",
        "#Su ejecución no finalizaría\n",
        "import itertools\n",
        "\n",
        "def is_even(x):\n",
        "    return (x % 2) == 0\n",
        "def is_le_10(x):\n",
        "    return (x <= 10)\n",
        "\n",
        "#seguirá solicitando datos de f, que no llegará a dar por no superar el filtro\n",
        "f=filter(is_le_10, itertools.count(5))\n",
        "for i in f:\n",
        "    if (i>19):\n",
        "        break\n",
        "    else:\n",
        "        print(i)\n"
      ],
      "metadata": {
        "id": "q_W_0zPWmWre",
        "outputId": "a6dd2c8d-158a-4505-984f-d4b40b4500b2",
        "colab": {
          "base_uri": "https://localhost:8080/",
          "height": 436
        }
      },
      "execution_count": 3,
      "outputs": [
        {
          "output_type": "stream",
          "name": "stdout",
          "text": [
            "5\n",
            "6\n",
            "7\n",
            "8\n",
            "9\n",
            "10\n"
          ]
        },
        {
          "output_type": "error",
          "ename": "KeyboardInterrupt",
          "evalue": "",
          "traceback": [
            "\u001b[0;31m---------------------------------------------------------------------------\u001b[0m",
            "\u001b[0;31mKeyboardInterrupt\u001b[0m                         Traceback (most recent call last)",
            "\u001b[0;32m/tmp/ipython-input-2968991427.py\u001b[0m in \u001b[0;36m<cell line: 0>\u001b[0;34m()\u001b[0m\n\u001b[1;32m     11\u001b[0m \u001b[0;31m#seguirá solicitando datos de f, que no llegará a dar por no superar el filtro\u001b[0m\u001b[0;34m\u001b[0m\u001b[0;34m\u001b[0m\u001b[0m\n\u001b[1;32m     12\u001b[0m \u001b[0mf\u001b[0m\u001b[0;34m=\u001b[0m\u001b[0mfilter\u001b[0m\u001b[0;34m(\u001b[0m\u001b[0mis_le_10\u001b[0m\u001b[0;34m,\u001b[0m \u001b[0mitertools\u001b[0m\u001b[0;34m.\u001b[0m\u001b[0mcount\u001b[0m\u001b[0;34m(\u001b[0m\u001b[0;36m5\u001b[0m\u001b[0;34m)\u001b[0m\u001b[0;34m)\u001b[0m\u001b[0;34m\u001b[0m\u001b[0;34m\u001b[0m\u001b[0m\n\u001b[0;32m---> 13\u001b[0;31m \u001b[0;32mfor\u001b[0m \u001b[0mi\u001b[0m \u001b[0;32min\u001b[0m \u001b[0mf\u001b[0m\u001b[0;34m:\u001b[0m\u001b[0;34m\u001b[0m\u001b[0;34m\u001b[0m\u001b[0m\n\u001b[0m\u001b[1;32m     14\u001b[0m     \u001b[0;32mif\u001b[0m \u001b[0;34m(\u001b[0m\u001b[0mi\u001b[0m\u001b[0;34m>\u001b[0m\u001b[0;36m19\u001b[0m\u001b[0;34m)\u001b[0m\u001b[0;34m:\u001b[0m\u001b[0;34m\u001b[0m\u001b[0;34m\u001b[0m\u001b[0m\n\u001b[1;32m     15\u001b[0m         \u001b[0;32mbreak\u001b[0m\u001b[0;34m\u001b[0m\u001b[0;34m\u001b[0m\u001b[0m\n",
            "\u001b[0;32m/tmp/ipython-input-2968991427.py\u001b[0m in \u001b[0;36mis_le_10\u001b[0;34m(x)\u001b[0m\n\u001b[1;32m      6\u001b[0m \u001b[0;32mdef\u001b[0m \u001b[0mis_even\u001b[0m\u001b[0;34m(\u001b[0m\u001b[0mx\u001b[0m\u001b[0;34m)\u001b[0m\u001b[0;34m:\u001b[0m\u001b[0;34m\u001b[0m\u001b[0;34m\u001b[0m\u001b[0m\n\u001b[1;32m      7\u001b[0m     \u001b[0;32mreturn\u001b[0m \u001b[0;34m(\u001b[0m\u001b[0mx\u001b[0m \u001b[0;34m%\u001b[0m \u001b[0;36m2\u001b[0m\u001b[0;34m)\u001b[0m \u001b[0;34m==\u001b[0m \u001b[0;36m0\u001b[0m\u001b[0;34m\u001b[0m\u001b[0;34m\u001b[0m\u001b[0m\n\u001b[0;32m----> 8\u001b[0;31m \u001b[0;32mdef\u001b[0m \u001b[0mis_le_10\u001b[0m\u001b[0;34m(\u001b[0m\u001b[0mx\u001b[0m\u001b[0;34m)\u001b[0m\u001b[0;34m:\u001b[0m\u001b[0;34m\u001b[0m\u001b[0;34m\u001b[0m\u001b[0m\n\u001b[0m\u001b[1;32m      9\u001b[0m     \u001b[0;32mreturn\u001b[0m \u001b[0;34m(\u001b[0m\u001b[0mx\u001b[0m \u001b[0;34m<=\u001b[0m \u001b[0;36m10\u001b[0m\u001b[0;34m)\u001b[0m\u001b[0;34m\u001b[0m\u001b[0;34m\u001b[0m\u001b[0m\n\u001b[1;32m     10\u001b[0m \u001b[0;34m\u001b[0m\u001b[0m\n",
            "\u001b[0;31mKeyboardInterrupt\u001b[0m: "
          ]
        }
      ]
    },
    {
      "cell_type": "code",
      "source": [
        "#aquí se ve mejor que no termina\n",
        "sum=0\n",
        "for i in f:\n",
        "    sum=sum+i\n",
        "    if (i>10):\n",
        "        break\n",
        "print(sum)"
      ],
      "metadata": {
        "id": "VZ6MaBT3mgFQ"
      },
      "execution_count": null,
      "outputs": []
    },
    {
      "cell_type": "markdown",
      "source": [
        "Conviene que se manipulen otros constructores, en particular izip y islice"
      ],
      "metadata": {
        "id": "JsvTNMbam0_p"
      }
    },
    {
      "cell_type": "code",
      "source": [
        "#Para construir iteradores aplicando funciones a iteradores, ver imap y starmap\n",
        "#filter y filterfalse seleccionan mediante filtro\n",
        "f=itertools.filterfalse(is_even, range(8))\n",
        "#f=filter(is_even, range(8))\n",
        "print(list(f))"
      ],
      "metadata": {
        "id": "QMhq2df-mti-",
        "outputId": "15f745b9-7ecc-4ebb-9465-61670534695d",
        "colab": {
          "base_uri": "https://localhost:8080/"
        }
      },
      "execution_count": 4,
      "outputs": [
        {
          "output_type": "stream",
          "name": "stdout",
          "text": [
            "[1, 3, 5, 7]\n"
          ]
        }
      ]
    },
    {
      "cell_type": "code",
      "source": [
        "#Consultar la documentación de takewhile y dropwhile.\n",
        "#h=itertools.dropwhile(is_even, range(20))\n",
        "h=itertools.takewhile(is_le_10, range(20))\n",
        "list(h)"
      ],
      "metadata": {
        "id": "dYkUh7e7m3JW",
        "outputId": "58ab7a7f-3674-4499-a089-6dc0683f09a3",
        "colab": {
          "base_uri": "https://localhost:8080/"
        }
      },
      "execution_count": 5,
      "outputs": [
        {
          "output_type": "execute_result",
          "data": {
            "text/plain": [
              "[0, 1, 2, 3, 4, 5, 6, 7, 8, 9, 10]"
            ]
          },
          "metadata": {},
          "execution_count": 5
        }
      ]
    },
    {
      "cell_type": "code",
      "source": [
        "#sí, finaliza\n",
        "f=itertools.takewhile(is_le_10, itertools.count())"
      ],
      "metadata": {
        "id": "zcp7q0HenBe8"
      },
      "execution_count": 6,
      "outputs": []
    },
    {
      "cell_type": "code",
      "source": [
        "list(f)"
      ],
      "metadata": {
        "id": "Z4hoG7nbnDrb",
        "outputId": "16bec859-8ed8-47a7-9382-e9990dc7dad6",
        "colab": {
          "base_uri": "https://localhost:8080/"
        }
      },
      "execution_count": 7,
      "outputs": [
        {
          "output_type": "execute_result",
          "data": {
            "text/plain": [
              "[0, 1, 2, 3, 4, 5, 6, 7, 8, 9, 10]"
            ]
          },
          "metadata": {},
          "execution_count": 7
        }
      ]
    },
    {
      "cell_type": "markdown",
      "source": [
        "**Trabajo personal**: echad un vistazo a los operadores del módulo y hacer pruebas con ellos.\n",
        "Para evitar problemas, limitaros a iteradores finitos."
      ],
      "metadata": {
        "id": "-Bh2mqAcnTJm"
      }
    },
    {
      "cell_type": "markdown",
      "source": [
        "## Sobre functools"
      ],
      "metadata": {
        "id": "2U7Z4VHdnWsF"
      }
    },
    {
      "cell_type": "code",
      "source": [
        "#Hemos construido secciones de una función a pelo. Ahora lo hacemos usando el módulo para funciones\n",
        "import functools\n",
        "def log (message, subsystem):\n",
        "    \"Write the contents of ’message’ to the specified subsystem.\"\n",
        "    print('%s:%s'% (subsystem, message))\n",
        "server_log = functools.partial(log, subsystem='server')\n",
        "server_log('Unable to open socket')\n",
        "server_system=functools.partial(log,message=\"Un message\")\n",
        "server_system(subsystem='Unable to open system')"
      ],
      "metadata": {
        "id": "Sog0HENTnH3j",
        "outputId": "22a95ab1-02ec-4daf-8c7a-99fda3eea1da",
        "colab": {
          "base_uri": "https://localhost:8080/"
        }
      },
      "execution_count": 8,
      "outputs": [
        {
          "output_type": "stream",
          "name": "stdout",
          "text": [
            "server:Unable to open socket\n",
            "Unable to open system:Un message\n"
          ]
        }
      ]
    },
    {
      "cell_type": "code",
      "source": [
        "#revisar el módulo operator\n",
        "import functools\n",
        "import operator\n",
        "l=[list('a'),list('bc'),list('d')]\n",
        "functools.reduce(operator.concat,l,[])\n",
        "#s=[\"a\",\"b\"]\n",
        "#functools.reduce(operator.add,s,\"\")\n"
      ],
      "metadata": {
        "id": "LPSO00ilnam-",
        "outputId": "8a734b1f-ff23-495c-c110-8a81d3d922ce",
        "colab": {
          "base_uri": "https://localhost:8080/"
        }
      },
      "execution_count": 9,
      "outputs": [
        {
          "output_type": "execute_result",
          "data": {
            "text/plain": [
              "['a', 'b', 'c', 'd']"
            ]
          },
          "metadata": {},
          "execution_count": 9
        }
      ]
    },
    {
      "cell_type": "markdown",
      "source": [
        "# Ejercicios\n",
        "\n",
        "A continuación se listan los ejercicios a realizar para esta sesión. Para cada uno de ellos se proporciona la cabecera de la función a definir junto con unos casos de prueba para verificar el comportamiento correcto de los métodos. Lo único que deberás hacer es reemplazar el ``pass`` por la definición de la función."
      ],
      "metadata": {
        "id": "6Lv27nReIPVM"
      }
    },
    {
      "cell_type": "markdown",
      "source": [
        "**Ejercicio**: Representamos una fecha con el formato \"YYYY-MM-DD\", usando ``filter`` y una función ``lambda`` define una función que dada una lista de fechas obtenga las fechas posteriores a una fecha dada. Utiliza una sección para definir un método que indique si una fecha es posterior a otra."
      ],
      "metadata": {
        "id": "vAq9OXmvIRbD"
      }
    },
    {
      "cell_type": "code",
      "source": [
        "from datetime import datetime\n",
        "\n",
        "def filtra_fechas_posteriores(lista_fechas,fecha):\n",
        "  \"\"\"\n",
        "  >>> filtra_fechas_posteriores(['2028-04-12','2020-07-10','2025-06-01'],'2029-01-01')\n",
        "  []\n",
        "  >>> filtra_fechas_posteriores(['2028-04-12','2020-07-10','2025-06-01'],'2019-01-01')\n",
        "  ['2028-04-12', '2020-07-10', '2025-06-01']\n",
        "  >>> filtra_fechas_posteriores(['2028-04-12','2020-07-10','2025-06-01'],'2025-07-01')\n",
        "  ['2028-04-12']\n",
        "  >>> filtra_fechas_posteriores(['2028-04-12','2020-07-10','2025-06-01'],'2020-07-10')\n",
        "  ['2028-04-12', '2025-06-01']\n",
        "  >>> filtra_fechas_posteriores(['2028-04-12','2020-07-10','2025-06-01'],'2020-07-09')\n",
        "  ['2028-04-12', '2020-07-10', '2025-06-01']\n",
        "  \"\"\"\n",
        "  return list(filter(lambda x: es_posterior(x, fecha),lista_fechas))\n",
        "\n",
        "def es_posterior(fecha, referencia):\n",
        "  f = datetime.strptime(fecha, \"%Y-%m-%d\")\n",
        "  r = datetime.strptime(referencia, \"%Y-%m-%d\")\n",
        "  return f > r"
      ],
      "metadata": {
        "id": "a9h68f3vnn56"
      },
      "execution_count": 15,
      "outputs": []
    },
    {
      "cell_type": "code",
      "source": [
        "import doctest\n",
        "doctest.testmod()"
      ],
      "metadata": {
        "id": "K5G0xAhSSF4M",
        "outputId": "3cf47667-7d5b-4dd1-a758-ac28b86d996d",
        "colab": {
          "base_uri": "https://localhost:8080/"
        }
      },
      "execution_count": 16,
      "outputs": [
        {
          "output_type": "execute_result",
          "data": {
            "text/plain": [
              "TestResults(failed=0, attempted=5)"
            ]
          },
          "metadata": {},
          "execution_count": 16
        }
      ]
    },
    {
      "cell_type": "markdown",
      "source": [
        "**Ejercicio**: Define una función que calcule el cuadrado de los ``n`` primeros números de Fibonacci. Para ello, primero define una función generadora que produzca los números de Fibonacci. Seguidamente deberás obtener los ``n`` primeros números (mira qué hace el método ``islice`` de ``itertools``). Finalmente, utiliza un ``map`` para obtener la lista de los ``n`` primeros números de Fibonacci al cuadrado."
      ],
      "metadata": {
        "id": "-AYBlWW7K4_P"
      }
    },
    {
      "cell_type": "code",
      "source": [
        "from itertools import islice\n",
        "def cuadrados_fibonacci(n):\n",
        "  \"\"\"\n",
        "  >>> cuadrados_fibonacci(2)\n",
        "  [1, 1]\n",
        "  >>> cuadrados_fibonacci(10)\n",
        "  [1, 1, 4, 9, 25, 64, 169, 441, 1156, 3025]\n",
        "  \"\"\"\n",
        "  primeros_n = list(islice(fibonacci(), n))\n",
        "  return list(map(lambda x: x*x, primeros_n))\n",
        "\n",
        "\n",
        "def fibonacci():\n",
        "    a, b = 1, 1\n",
        "    while True:\n",
        "        yield a\n",
        "        a, b = b, a + b"
      ],
      "metadata": {
        "id": "nBFQe2E0K4qI"
      },
      "execution_count": 24,
      "outputs": []
    },
    {
      "cell_type": "code",
      "source": [
        "doctest.testmod()"
      ],
      "metadata": {
        "id": "lWNMWZqwSJSz",
        "outputId": "30a9c9da-7f95-4a01-c8fc-b378d2d6e46f",
        "colab": {
          "base_uri": "https://localhost:8080/"
        }
      },
      "execution_count": 25,
      "outputs": [
        {
          "output_type": "execute_result",
          "data": {
            "text/plain": [
              "TestResults(failed=0, attempted=7)"
            ]
          },
          "metadata": {},
          "execution_count": 25
        }
      ]
    },
    {
      "cell_type": "markdown",
      "source": [
        "**Ejercicio**: Usa ``reduce`` y una función ``lambda`` para encontrar el máximo de una lista."
      ],
      "metadata": {
        "id": "5vK6rMz9MtHu"
      }
    },
    {
      "cell_type": "code",
      "source": [
        "def maximo(lista):\n",
        "  \"\"\"\n",
        "  >>> maximo([1,5,2,3,-1])\n",
        "  5\n",
        "  >>> maximo([-1,-5,-2,-3,-1])\n",
        "  -1\n",
        "  \"\"\"\n",
        "  return functools.reduce (lambda x,y: x if x>y else y, lista)"
      ],
      "metadata": {
        "id": "HD1x5TrnMs42"
      },
      "execution_count": 28,
      "outputs": []
    },
    {
      "cell_type": "code",
      "source": [
        "doctest.testmod()"
      ],
      "metadata": {
        "id": "Omy4tuwbSJrz",
        "outputId": "a419ba02-a0ec-4184-d658-0f6c73dedbff",
        "colab": {
          "base_uri": "https://localhost:8080/"
        }
      },
      "execution_count": 29,
      "outputs": [
        {
          "output_type": "execute_result",
          "data": {
            "text/plain": [
              "TestResults(failed=0, attempted=9)"
            ]
          },
          "metadata": {},
          "execution_count": 29
        }
      ]
    },
    {
      "cell_type": "markdown",
      "source": [
        "**Ejercicio**: Combina ``map``, ``filter`` y ``reduce`` para definir una función que dada una lista de números devuelva la suma de los elementos pares de la lista al cuadrado. Utiliza la librería ``operator``.\n"
      ],
      "metadata": {
        "id": "nyxqT5KIM3N1"
      }
    },
    {
      "cell_type": "code",
      "source": [
        "from functools import reduce\n",
        "from operator import add\n",
        "def lista_pares_cuadrado(lista):\n",
        "  \"\"\"\n",
        "  >>> lista_pares_cuadrado([])\n",
        "  0\n",
        "  >>> lista_pares_cuadrado([1,2,7,4,6,5])\n",
        "  56\n",
        "  \"\"\"\n",
        "  pares_cuadrado=list(map(lambda x: x**2, filter(lambda x: x%2==0, lista)))\n",
        "  return reduce(add, pares_cuadrado, 0)\n",
        ""
      ],
      "metadata": {
        "id": "7xRx3fKONIRU"
      },
      "execution_count": 32,
      "outputs": []
    },
    {
      "cell_type": "code",
      "source": [
        "doctest.testmod()"
      ],
      "metadata": {
        "id": "mLrA0NsOSJ_b",
        "outputId": "21f3359b-57b8-4bac-a748-085ddcfb23f7",
        "colab": {
          "base_uri": "https://localhost:8080/"
        }
      },
      "execution_count": 33,
      "outputs": [
        {
          "output_type": "execute_result",
          "data": {
            "text/plain": [
              "TestResults(failed=0, attempted=11)"
            ]
          },
          "metadata": {},
          "execution_count": 33
        }
      ]
    },
    {
      "cell_type": "markdown",
      "source": [
        "# Entrega\n",
        "\n",
        "Recuerda guardar este notebook en tu repositorio de GitHub."
      ],
      "metadata": {
        "id": "EAI2kQ0WINYl"
      }
    }
  ],
  "metadata": {
    "kernelspec": {
      "display_name": "Python 3 (ipykernel)",
      "language": "python",
      "name": "python3"
    },
    "language_info": {
      "codemirror_mode": {
        "name": "ipython",
        "version": 3
      },
      "file_extension": ".py",
      "mimetype": "text/x-python",
      "name": "python",
      "nbconvert_exporter": "python",
      "pygments_lexer": "ipython3",
      "version": "3.7.11"
    },
    "colab": {
      "provenance": [],
      "include_colab_link": true
    }
  },
  "nbformat": 4,
  "nbformat_minor": 0
}