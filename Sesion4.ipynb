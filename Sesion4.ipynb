{
  "cells": [
    {
      "cell_type": "markdown",
      "metadata": {
        "id": "view-in-github",
        "colab_type": "text"
      },
      "source": [
        "<a href=\"https://colab.research.google.com/github/rugarce/Proyecto1Ruben-back/blob/main/Sesion4.ipynb\" target=\"_parent\"><img src=\"https://colab.research.google.com/assets/colab-badge.svg\" alt=\"Open In Colab\"/></a>"
      ]
    },
    {
      "cell_type": "markdown",
      "metadata": {
        "id": "dX8FUQ4f71Vz"
      },
      "source": [
        "# Sesión 4: ejercicios\n",
        "\n",
        "A continuación se listan los ejercicios a realizar para esta sesión. Para cada uno de ellos se proporciona la cabecera de la función a definir junto con unos casos de prueba para verificar el comportamiento correcto de los métodos. Lo único que deberás hacer es reemplazar el ``pass`` por la definición de la función."
      ]
    },
    {
      "cell_type": "markdown",
      "metadata": {
        "id": "10SxH__m71V1"
      },
      "source": [
        "**Ejercicio:** Diseñar una función para determinar si dos listas tienen los mismos elementos. Por ejemplo, [1,4,2,4,3] y [4,1,2,3,2,1] tiene los mismos elementos. Se piden dos versiones, una \"a pelo\", otra, transformando a set."
      ]
    },
    {
      "cell_type": "code",
      "source": [
        "def mismos_elementos_listas(lista1,lista2):\n",
        "    \"\"\"\n",
        "    >>> mismos_elementos_listas([1, 2, 3], [3, 2, 1])\n",
        "    True\n",
        "    >>> mismos_elementos_listas([1, 2, 2, 3], [3, 2, 1])\n",
        "    True\n",
        "    >>> mismos_elementos_listas([1, 2, 3], [3, 2, 1, 1])\n",
        "    True\n",
        "    >>> mismos_elementos_listas([1, 2, 3], [4, 5, 6])\n",
        "    False\n",
        "    >>> mismos_elementos_listas([], [])\n",
        "    True\n",
        "    >>> mismos_elementos_listas([1], [])\n",
        "    False\n",
        "    >>> mismos_elementos_listas(['a', 'b'], ['b', 'a'])\n",
        "    True\n",
        "    >>> mismos_elementos_listas(['a', 'b'], ['a', 'b', 'b'])\n",
        "    True\n",
        "    >>> mismos_elementos_listas(['a', 'b'], ['a', 'b', 'c'])\n",
        "    False\n",
        "    \"\"\"\n",
        "    unicos1 = []\n",
        "    for x in lista1:\n",
        "        if x not in unicos1:\n",
        "            unicos1.append(x)\n",
        "\n",
        "    unicos2 = []\n",
        "    for x in lista2:\n",
        "        if x not in unicos2:\n",
        "            unicos2.append(x)\n",
        "\n",
        "    return sorted(unicos1) == sorted(unicos2)"
      ],
      "metadata": {
        "id": "C8pFkjuMX9Mh"
      },
      "execution_count": 1,
      "outputs": []
    },
    {
      "cell_type": "code",
      "source": [
        "import doctest\n",
        "doctest.testmod()"
      ],
      "metadata": {
        "id": "pkbst8vZYCpZ",
        "colab": {
          "base_uri": "https://localhost:8080/"
        },
        "outputId": "c9a3a7e7-e712-41ac-db07-26f728bf17ce"
      },
      "execution_count": 2,
      "outputs": [
        {
          "output_type": "execute_result",
          "data": {
            "text/plain": [
              "TestResults(failed=0, attempted=9)"
            ]
          },
          "metadata": {},
          "execution_count": 2
        }
      ]
    },
    {
      "cell_type": "code",
      "source": [
        "def mismos_elementos_listas_set(lista1,lista2):\n",
        "    \"\"\"\n",
        "    >>> mismos_elementos_listas_set([1, 2, 3], [3, 2, 1])\n",
        "    True\n",
        "    >>> mismos_elementos_listas_set([1, 2, 2, 3], [3, 2, 1])\n",
        "    True\n",
        "    >>> mismos_elementos_listas_set([1, 2, 3], [3, 2, 1, 1])\n",
        "    True\n",
        "    >>> mismos_elementos_listas_set([1, 2, 3], [4, 5, 6])\n",
        "    False\n",
        "    >>> mismos_elementos_listas_set([], [])\n",
        "    True\n",
        "    >>> mismos_elementos_listas_set([1], [])\n",
        "    False\n",
        "    >>> mismos_elementos_listas_set(['a', 'b'], ['b', 'a'])\n",
        "    True\n",
        "    >>> mismos_elementos_listas_set(['a', 'b'], ['a', 'b', 'b'])\n",
        "    True\n",
        "    >>> mismos_elementos_listas_set(['a', 'b'], ['a', 'b', 'c'])\n",
        "    False\n",
        "    \"\"\"\n",
        "    return set(lista1) == set(lista2)"
      ],
      "metadata": {
        "id": "bI64LDONX9CJ"
      },
      "execution_count": 3,
      "outputs": []
    },
    {
      "cell_type": "code",
      "source": [
        "doctest.testmod()"
      ],
      "metadata": {
        "id": "h91cvclIX88p",
        "colab": {
          "base_uri": "https://localhost:8080/"
        },
        "outputId": "0bb0b174-1f42-4c76-ef45-754236239611"
      },
      "execution_count": 4,
      "outputs": [
        {
          "output_type": "execute_result",
          "data": {
            "text/plain": [
              "TestResults(failed=0, attempted=18)"
            ]
          },
          "metadata": {},
          "execution_count": 4
        }
      ]
    },
    {
      "cell_type": "markdown",
      "metadata": {
        "id": "tYjPapgS71V1"
      },
      "source": [
        "**Ejercicio:** Representamos una matriz mediante una lista de listas.\n",
        "Diseñar sendas funciones para, dadas dos matrices, calcular su suma y su producto.\n"
      ]
    },
    {
      "cell_type": "code",
      "source": [
        "def suma_matrices(A, B):\n",
        "    \"\"\"\n",
        "    >>> suma_matrices([[1, 2], [3, 4]], [[5, 6], [7, 8]])\n",
        "    [[6, 8], [10, 12]]\n",
        "    >>> suma_matrices([[0, 0], [0, 0]], [[1, 1], [1, 1]])\n",
        "    [[1, 1], [1, 1]]\n",
        "    >>> suma_matrices([[1]], [[2]])\n",
        "    [[3]]\n",
        "    \"\"\"\n",
        "    filas = len(A)\n",
        "    columnas = len(A[0])\n",
        "    resultado = []\n",
        "\n",
        "    for i in range(filas):\n",
        "      fila=[]\n",
        "      for j in range(columnas):\n",
        "        fila.append(A[i][j] + B[i][j])\n",
        "      resultado.append(fila)\n",
        "    return resultado"
      ],
      "metadata": {
        "id": "0w2qTXhOYA-J"
      },
      "execution_count": 5,
      "outputs": []
    },
    {
      "cell_type": "code",
      "source": [
        "doctest.testmod()"
      ],
      "metadata": {
        "id": "G9f_vCZqYB0Q",
        "colab": {
          "base_uri": "https://localhost:8080/"
        },
        "outputId": "293c3436-d00b-4a04-b613-95d3fe6ddd31"
      },
      "execution_count": 6,
      "outputs": [
        {
          "output_type": "execute_result",
          "data": {
            "text/plain": [
              "TestResults(failed=0, attempted=21)"
            ]
          },
          "metadata": {},
          "execution_count": 6
        }
      ]
    },
    {
      "cell_type": "code",
      "source": [
        "def producto_matrices(A, B):\n",
        "    \"\"\"\n",
        "    >>> producto_matrices([[1, 2], [3, 4]], [[5, 6], [7, 8]])\n",
        "    [[19, 22], [43, 50]]\n",
        "    >>> producto_matrices([[1, 0], [0, 1]], [[5, 6], [7, 8]])\n",
        "    [[5, 6], [7, 8]]\n",
        "    >>> producto_matrices([[1, 0], [0, 1], [-1,1]], [[5, 6], [7, 8]])\n",
        "    [[5, 6], [7, 8], [2, 2]]\n",
        "    >>> producto_matrices([[1, 0], [0, 1], [-1,1]], [[5, 6, 7], [7, 8, 9]])\n",
        "    [[5, 6, 7], [7, 8, 9], [2, 2, 2]]\n",
        "    >>> producto_matrices([[2]], [[3]])\n",
        "    [[6]]\n",
        "    \"\"\"\n",
        "    filas_A = len(A)\n",
        "    columnas_A = len(A[0])\n",
        "    filas_B = len(B)\n",
        "    columnas_B = len(B[0])\n",
        "    resultado = []\n",
        "\n",
        "    for i in range(filas_A):\n",
        "      fila=[]\n",
        "      for j in range(columnas_B):\n",
        "        suma = 0\n",
        "        for k in range(columnas_A):\n",
        "          suma += A[i][k] * B[k][j]\n",
        "        fila.append(suma)\n",
        "      resultado.append(fila)\n",
        "    return resultado"
      ],
      "metadata": {
        "id": "HHFMHr4qYBrQ"
      },
      "execution_count": 7,
      "outputs": []
    },
    {
      "cell_type": "code",
      "source": [
        "doctest.testmod()"
      ],
      "metadata": {
        "id": "uWoFWEB0YBfo",
        "colab": {
          "base_uri": "https://localhost:8080/"
        },
        "outputId": "170296f3-00cc-4b30-e42e-0d7ab8a4660f"
      },
      "execution_count": 8,
      "outputs": [
        {
          "output_type": "execute_result",
          "data": {
            "text/plain": [
              "TestResults(failed=0, attempted=26)"
            ]
          },
          "metadata": {},
          "execution_count": 8
        }
      ]
    },
    {
      "cell_type": "markdown",
      "metadata": {
        "id": "wzzI-gIk71V2"
      },
      "source": [
        "**Ejercicio:** Representamos un grafo dirigido mediante un diccionario. Las parejas son (vértice: lista de adyacencia). A partir de un grafo diseñar una función para calcular su matriz de adyacencia."
      ]
    },
    {
      "cell_type": "code",
      "source": [
        "def matriz_adyacencia(grafo):\n",
        "    \"\"\"\n",
        "    >>> matriz_adyacencia({'A': ['B', 'C'], 'B': ['C'], 'C': []})\n",
        "    [[0, 1, 1], [0, 0, 1], [0, 0, 0]]\n",
        "\n",
        "    >>> matriz_adyacencia({1: [2], 2: [3], 3: [1]})\n",
        "    [[0, 1, 0], [0, 0, 1], [1, 0, 0]]\n",
        "\n",
        "    >>> matriz_adyacencia({'x': [], 'y': [], 'z': []})\n",
        "    [[0, 0, 0], [0, 0, 0], [0, 0, 0]]\n",
        "\n",
        "    >>> matriz_adyacencia({})\n",
        "    []\n",
        "    \"\"\"\n",
        "    vertices = list(grafo.keys())\n",
        "    n = len(vertices)\n",
        "\n",
        "    indice = {v: i for i, v in enumerate(vertices)} #a cada vertice le asocio un indice\n",
        "\n",
        "    matriz = [[0]*n for _ in range(n)] #matriz nxn con 0s\n",
        "    for v,adiacentes in grafo.items():\n",
        "      i = indice[v]\n",
        "      for x in adiacentes:\n",
        "        j = indice[x]\n",
        "        matriz[i][j] = 1\n",
        "    return matriz"
      ],
      "metadata": {
        "id": "Pl4rOfcgYRHH"
      },
      "execution_count": 9,
      "outputs": []
    },
    {
      "cell_type": "code",
      "source": [
        "doctest.testmod()"
      ],
      "metadata": {
        "id": "fiNPI4JqYTlX",
        "colab": {
          "base_uri": "https://localhost:8080/"
        },
        "outputId": "cdae4b31-2c54-4192-a691-5ba0dc8d53a2"
      },
      "execution_count": 10,
      "outputs": [
        {
          "output_type": "execute_result",
          "data": {
            "text/plain": [
              "TestResults(failed=0, attempted=30)"
            ]
          },
          "metadata": {},
          "execution_count": 10
        }
      ]
    },
    {
      "cell_type": "markdown",
      "source": [
        "**Ejercicio:** Dado un grafo dirigido, representado como en el ejercicio anterior, obtener a partir de su matriz de adyacencia y usando listas por comprensión el:\n",
        "- Conjunto de vértices con mayor número de salidas.\n",
        "- Conjunto de vértices con mayor número de llegadas.\n",
        "- Existencia de un vértice fuente (sólo tiene aristas de salida)"
      ],
      "metadata": {
        "id": "fEgZydZ6YVcf"
      }
    },
    {
      "cell_type": "code",
      "source": [
        "def vertices_mas_salidas(grafo):\n",
        "  \"\"\"\n",
        "  >>> vertices_mas_salidas({'A': ['B', 'C'], 'B': ['C'], 'C': []}) == {'A'}\n",
        "  True\n",
        "  >>> vertices_mas_salidas({'A': ['B', 'C'], 'B': ['D'], 'C': ['B', 'D'],'D':[]}) == {'A', 'C'}\n",
        "  True\n",
        "  >>> vertices_mas_salidas({'A': ['B'], 'B': ['D'], 'C': ['B', 'D'],'D':[]}) == {'C'}\n",
        "  True\n",
        "  \"\"\"\n",
        "  max_salidas = max(len(grafo[vertice]) for vertice in grafo)\n",
        "  return {vertice for vertice in grafo if len(grafo[vertice]) == max_salidas}"
      ],
      "metadata": {
        "id": "iJoJkcsUYjz-"
      },
      "execution_count": 11,
      "outputs": []
    },
    {
      "cell_type": "code",
      "source": [
        "doctest.testmod()"
      ],
      "metadata": {
        "id": "05zsyBgzYjpe",
        "colab": {
          "base_uri": "https://localhost:8080/"
        },
        "outputId": "03704cc8-7b26-4ee9-927b-6a0af1b2c306"
      },
      "execution_count": 12,
      "outputs": [
        {
          "output_type": "execute_result",
          "data": {
            "text/plain": [
              "TestResults(failed=0, attempted=33)"
            ]
          },
          "metadata": {},
          "execution_count": 12
        }
      ]
    },
    {
      "cell_type": "code",
      "source": [
        "def vertices_mas_entradas(grafo):\n",
        "  \"\"\"\n",
        "  >>> vertices_mas_entradas({'A': ['B'], 'B': ['C'], 'C': ['B']}) == {'B'}\n",
        "  True\n",
        "  >>> vertices_mas_entradas({'A': ['B', 'C'], 'B': ['D'], 'C': ['B', 'D'],'D':[]}) == {'B', 'D'}\n",
        "  True\n",
        "  >>> vertices_mas_entradas({'A': ['B','D'], 'B': ['D'], 'C': ['B', 'D'],'D':[]}) == {'D'}\n",
        "  True\n",
        "  \"\"\"\n",
        "  vertices = list(grafo.keys())\n",
        "  matriz = matriz_adyacencia(grafo)\n",
        "  salidas = [sum(matriz[i][j] for i in range(len(matriz))) for j in range(len(matriz[0]))]\n",
        "  max_salidas = max(salidas)\n",
        "  return {vertices[i]  for i,value in enumerate(salidas) if value==max_salidas }"
      ],
      "metadata": {
        "id": "Ad6ZFijGYjgO"
      },
      "execution_count": 13,
      "outputs": []
    },
    {
      "cell_type": "code",
      "source": [
        "doctest.testmod()"
      ],
      "metadata": {
        "id": "rBszvY_bYjYH",
        "colab": {
          "base_uri": "https://localhost:8080/"
        },
        "outputId": "d1427a73-27fa-48f4-cd95-ca8294a72dfa"
      },
      "execution_count": 14,
      "outputs": [
        {
          "output_type": "execute_result",
          "data": {
            "text/plain": [
              "TestResults(failed=0, attempted=36)"
            ]
          },
          "metadata": {},
          "execution_count": 14
        }
      ]
    },
    {
      "cell_type": "code",
      "source": [
        "def existe_vertice_fuente(grafo):\n",
        "  \"\"\"\n",
        "  >>> existe_vertice_fuente({'A': ['B', 'C'], 'B': ['C'], 'C': ['B']})\n",
        "  True\n",
        "  >>> existe_vertice_fuente({'A': ['B', 'C'], 'B': ['D'], 'C': ['B', 'D'],'D':['A']})\n",
        "  False\n",
        "  >>> existe_vertice_fuente({})\n",
        "  False\n",
        "  \"\"\"\n",
        "  if len(grafo) == 0:\n",
        "    return False\n",
        "  vertices = list(grafo.keys())\n",
        "  matriz = matriz_adyacencia(grafo)\n",
        "  salidas = [sum(matriz[i][j] for i in range(len(matriz))) for j in range(len(matriz[0]))]\n",
        "  return  0 in salidas"
      ],
      "metadata": {
        "id": "AAxPkFMqYjPu"
      },
      "execution_count": 15,
      "outputs": []
    },
    {
      "cell_type": "code",
      "source": [
        "doctest.testmod()"
      ],
      "metadata": {
        "id": "EXn7Uv7uYjBu",
        "colab": {
          "base_uri": "https://localhost:8080/"
        },
        "outputId": "8246640f-88f9-463e-808d-95d2df9e9fd5"
      },
      "execution_count": 16,
      "outputs": [
        {
          "output_type": "execute_result",
          "data": {
            "text/plain": [
              "TestResults(failed=0, attempted=39)"
            ]
          },
          "metadata": {},
          "execution_count": 16
        }
      ]
    },
    {
      "cell_type": "markdown",
      "metadata": {
        "id": "86qaoZ1X71V2"
      },
      "source": [
        "**Ejercicio:** Dado un grafo dirigido G (representado como en ejercicios anteriores), un vértive v de G y un entero n mayor o igual que 0, calcular el conjunto de vértices alcanzables desde v por caminos que tengan longitud menor o igual que n."
      ]
    },
    {
      "cell_type": "code",
      "execution_count": 19,
      "metadata": {
        "id": "BSJ59OEW71V2"
      },
      "outputs": [],
      "source": [
        "def caminos_longitud_menor(grafo, v,n):\n",
        "  \"\"\"\n",
        "  >>> caminos_longitud_menor({'A': ['C', 'B'], 'C': [], 'B': ['C','D'], 'D':['E','F'], 'E':['A'],'F':['G'],'G':['C','D']},'E',2) == {'A', 'B', 'C'}\n",
        "  True\n",
        "  >>> caminos_longitud_menor({'A': ['C', 'B'], 'C': [], 'B': ['C','D'], 'D':['E','F'], 'E':['A'],'F':['G'],'G':['C','D']},'A',5) == {'B', 'C', 'D', 'E', 'F', 'G'}\n",
        "  True\n",
        "  >>> caminos_longitud_menor({'A': ['C', 'B'], 'C': [], 'B': ['C','D'], 'D':['E','F'], 'E':['A'],'F':['G'],'G':['C','D']},'D',4) == {'A', 'B', 'C', 'E', 'F', 'G'}\n",
        "  True\n",
        "  \"\"\"\n",
        "  if n == 0:\n",
        "    return set()\n",
        "  alcanzables = set(grafo.get(v, [])) | {u for w in grafo.get(v, []) for u in caminos_longitud_menor(grafo, w, n-1)}\n",
        "  return alcanzables - {v}\n"
      ]
    },
    {
      "cell_type": "code",
      "source": [
        "doctest.testmod()"
      ],
      "metadata": {
        "id": "We5OEvcUYqY1",
        "outputId": "f9813bac-8ee2-4b1f-822f-3b8b9e25d4b4",
        "colab": {
          "base_uri": "https://localhost:8080/"
        }
      },
      "execution_count": 20,
      "outputs": [
        {
          "output_type": "execute_result",
          "data": {
            "text/plain": [
              "TestResults(failed=0, attempted=42)"
            ]
          },
          "metadata": {},
          "execution_count": 20
        }
      ]
    },
    {
      "cell_type": "markdown",
      "source": [
        "# Entrega\n",
        "\n",
        "Recuerda guardar este notebook en tu repositorio de GitHub"
      ],
      "metadata": {
        "id": "c8S6FFxB_KQV"
      }
    }
  ],
  "metadata": {
    "kernelspec": {
      "display_name": "Python 3 (ipykernel)",
      "language": "python",
      "name": "python3"
    },
    "language_info": {
      "codemirror_mode": {
        "name": "ipython",
        "version": 3
      },
      "file_extension": ".py",
      "mimetype": "text/x-python",
      "name": "python",
      "nbconvert_exporter": "python",
      "pygments_lexer": "ipython3",
      "version": "3.7.11"
    },
    "colab": {
      "provenance": [],
      "include_colab_link": true
    }
  },
  "nbformat": 4,
  "nbformat_minor": 0
}