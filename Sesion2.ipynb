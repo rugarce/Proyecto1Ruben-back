{
  "cells": [
    {
      "cell_type": "markdown",
      "metadata": {
        "id": "view-in-github",
        "colab_type": "text"
      },
      "source": [
        "<a href=\"https://colab.research.google.com/github/rugarce/Proyecto1Ruben-back/blob/main/Sesion2.ipynb\" target=\"_parent\"><img src=\"https://colab.research.google.com/assets/colab-badge.svg\" alt=\"Open In Colab\"/></a>"
      ]
    },
    {
      "cell_type": "markdown",
      "metadata": {
        "id": "Ij-dVi0s-T-C"
      },
      "source": [
        "# Sesión 2: sentencias en Python"
      ]
    },
    {
      "cell_type": "markdown",
      "metadata": {
        "id": "jU92ods1-T-D"
      },
      "source": [
        "\n",
        "\n",
        "Para esta sesión comenzamos revisando la [Sección 4 del tutorial de Python](https://docs.python.org/3/tutorial/controlflow.html).\n",
        "    \n",
        "También vamos a seguir el libro Python for Data Analysis (Secc.3 del Apéndice/ Capítulo 3, según edición).\n",
        "Recordad que ya usamos la sentencia while en la sesión anterior.\n",
        "La estructura condicional, sentencia ``if``, se deja como trabajo personal, consultando el tutorial."
      ]
    },
    {
      "cell_type": "code",
      "execution_count": 1,
      "metadata": {
        "id": "rkEBdW91-T-D",
        "outputId": "06853d0c-29e8-4ba2-d82f-b96a8eccfa4b",
        "colab": {
          "base_uri": "https://localhost:8080/"
        }
      },
      "outputs": [
        {
          "output_type": "execute_result",
          "data": {
            "text/plain": [
              "(0, 1, 2, 3, 4)"
            ]
          },
          "metadata": {},
          "execution_count": 1
        }
      ],
      "source": [
        "#print(range(5))\n",
        "#list(range(5,100,3))\n",
        "tuple(range(5))"
      ]
    },
    {
      "cell_type": "markdown",
      "metadata": {
        "id": "uO7NhQ7z-T-E"
      },
      "source": [
        "### Iteraciones: FOR y WHILE"
      ]
    },
    {
      "cell_type": "code",
      "execution_count": 2,
      "metadata": {
        "id": "Pw5EURc3-T-E",
        "outputId": "e7189de2-c40b-40b4-aa59-13c98d23de24",
        "colab": {
          "base_uri": "https://localhost:8080/"
        }
      },
      "outputs": [
        {
          "output_type": "stream",
          "name": "stdout",
          "text": [
            "\n",
            "\n",
            "0 \n",
            "\n",
            "0 1 \n",
            "\n",
            "0 1 2 \n",
            "\n",
            "0 1 2 3 \n",
            "\n",
            "0 1 2 3 4 \n",
            "\n",
            "0 1 2 3 4 5 \n",
            "\n",
            "0 1 2 3 4 5 6 \n",
            "\n",
            "0 1 2 3 4 5 6 7 \n",
            "\n"
          ]
        }
      ],
      "source": [
        "#La estructura for trabaja sobre iterables (hablaremos de ellos más adelante)\n",
        "#La sentencia sirve sobre cualquier objeto iterable, en este caso una lista (obtenida desde un rango)\n",
        "l=list(range(9))\n",
        "for n in l:\n",
        "    for i in range(n):\n",
        "        print (i,end=' ')\n",
        "    print('\\n')"
      ]
    },
    {
      "cell_type": "code",
      "execution_count": 3,
      "metadata": {
        "id": "CVorgDIe-T-F",
        "outputId": "859e9ed3-541f-496b-8168-18594a342329",
        "colab": {
          "base_uri": "https://localhost:8080/"
        }
      },
      "outputs": [
        {
          "output_type": "stream",
          "name": "stdout",
          "text": [
            "0 1 2 3 4 5 6 7 8 \n",
            "\n",
            "0 1 2 3 4 5 6 7 8 9 10 \n",
            "\n"
          ]
        }
      ],
      "source": [
        "#En este caso, iteramos directamente sobre un rango\n",
        "l=range(9,13,2)\n",
        "for n in l:\n",
        "    for i in range(n):\n",
        "        print (i,end=' ')\n",
        "    print('\\n')"
      ]
    },
    {
      "cell_type": "code",
      "execution_count": 4,
      "metadata": {
        "id": "cauGLq4F-T-F",
        "outputId": "c019dfb4-4612-43e1-915e-40be29e8b64d",
        "colab": {
          "base_uri": "https://localhost:8080/"
        }
      },
      "outputs": [
        {
          "output_type": "stream",
          "name": "stdout",
          "text": [
            "hohoho\n",
            "hohohoho\n"
          ]
        }
      ],
      "source": [
        "#La sentencia while\n",
        "x=3\n",
        "h='ho'\n",
        "while(x<5):\n",
        "    print(x * h)\n",
        "    x+=1"
      ]
    },
    {
      "cell_type": "code",
      "execution_count": 5,
      "metadata": {
        "id": "CHOdf4k1-T-G",
        "outputId": "59cc329d-f989-452d-d65b-18a1a92e46c6",
        "colab": {
          "base_uri": "https://localhost:8080/"
        }
      },
      "outputs": [
        {
          "output_type": "stream",
          "name": "stdout",
          "text": [
            "Help on zip object:\n",
            "\n",
            "class zip(object)\n",
            " |  zip(*iterables, strict=False) --> Yield tuples until an input is exhausted.\n",
            " |\n",
            " |     >>> list(zip('abcdefg', range(3), range(4)))\n",
            " |     [('a', 0, 0), ('b', 1, 1), ('c', 2, 2)]\n",
            " |\n",
            " |  The zip object yields n-length tuples, where n is the number of iterables\n",
            " |  passed as positional arguments to zip().  The i-th element in every tuple\n",
            " |  comes from the i-th iterable argument to zip().  This continues until the\n",
            " |  shortest argument is exhausted.\n",
            " |\n",
            " |  If strict is true and one of the arguments is exhausted before the others,\n",
            " |  raise a ValueError.\n",
            " |\n",
            " |  Methods defined here:\n",
            " |\n",
            " |  __getattribute__(self, name, /)\n",
            " |      Return getattr(self, name).\n",
            " |\n",
            " |  __iter__(self, /)\n",
            " |      Implement iter(self).\n",
            " |\n",
            " |  __next__(self, /)\n",
            " |      Implement next(self).\n",
            " |\n",
            " |  __reduce__(...)\n",
            " |      Return state information for pickling.\n",
            " |\n",
            " |  __setstate__(...)\n",
            " |      Set state information for unpickling.\n",
            " |\n",
            " |  ----------------------------------------------------------------------\n",
            " |  Static methods defined here:\n",
            " |\n",
            " |  __new__(*args, **kwargs)\n",
            " |      Create and return a new object.  See help(type) for accurate signature.\n",
            "\n"
          ]
        }
      ],
      "source": [
        "help(zip())"
      ]
    },
    {
      "cell_type": "code",
      "execution_count": 6,
      "metadata": {
        "id": "9IVaO8io-T-G",
        "outputId": "db1d932b-23fa-4af4-aa15-2008091f38de",
        "colab": {
          "base_uri": "https://localhost:8080/"
        }
      },
      "outputs": [
        {
          "output_type": "stream",
          "name": "stdout",
          "text": [
            "9 11 ocupan simetrico\n",
            "10 10 ocupan simetrico\n",
            "11 9 ocupan simetrico\n"
          ]
        }
      ],
      "source": [
        "#lista de pares (tuplas)\n",
        "l=list(range(9,12))\n",
        "l1=l.copy()\n",
        "l1.reverse()\n",
        "\n",
        "for n,s in zip(l,l1):\n",
        "    print(n,s, 'ocupan simetrico')\n"
      ]
    },
    {
      "cell_type": "code",
      "execution_count": 7,
      "metadata": {
        "id": "dO8fCSav-T-G",
        "outputId": "f4bd9f3e-6491-4611-dd64-8e1d4458701f",
        "colab": {
          "base_uri": "https://localhost:8080/"
        }
      },
      "outputs": [
        {
          "output_type": "stream",
          "name": "stdout",
          "text": [
            "q u e r i d a   m a m á :   e s p e r o . "
          ]
        }
      ],
      "source": [
        "#iterar sobre un string\n",
        "f = 'Querida mamá: espero.'\n",
        "for c in f:\n",
        "    print(c.lower(),end=' ')\n"
      ]
    },
    {
      "cell_type": "code",
      "execution_count": 8,
      "metadata": {
        "id": "LQuA0Jg5-T-H",
        "outputId": "784c8e48-f58a-4dd3-904c-e14a0ff8bc93",
        "colab": {
          "base_uri": "https://localhost:8080/"
        }
      },
      "outputs": [
        {
          "output_type": "stream",
          "name": "stdout",
          "text": [
            "querida mama: espero\n"
          ]
        }
      ],
      "source": [
        "print(f.replace('.','').replace('á','a').lower())"
      ]
    },
    {
      "cell_type": "code",
      "execution_count": 9,
      "metadata": {
        "id": "8DGFBgjb-T-H",
        "outputId": "474e691a-a024-4153-97cd-de97621a7dbe",
        "colab": {
          "base_uri": "https://localhost:8080/",
          "height": 36
        }
      },
      "outputs": [
        {
          "output_type": "execute_result",
          "data": {
            "text/plain": [
              "'Queridamamáespero.'"
            ],
            "application/vnd.google.colaboratory.intrinsic+json": {
              "type": "string"
            }
          },
          "metadata": {},
          "execution_count": 9
        }
      ],
      "source": [
        "frase1=f.replace(' ','')\n",
        "frase1=frase1.replace(':','')\n",
        "frase1\n",
        "#print (f)"
      ]
    },
    {
      "cell_type": "code",
      "execution_count": 10,
      "metadata": {
        "id": "QWwbiL2i-T-H",
        "outputId": "9a67518c-305c-4f3e-e1e0-913a3eee356c",
        "colab": {
          "base_uri": "https://localhost:8080/"
        }
      },
      "outputs": [
        {
          "output_type": "execute_result",
          "data": {
            "text/plain": [
              "['pepito', 'paco', 'angelita']"
            ]
          },
          "metadata": {},
          "execution_count": 10
        }
      ],
      "source": [
        "#Combinamos con if, en este caso degenerado (sin else)\n",
        "cambios=(('pepe','pepito'),\n",
        "           ('luis','luisito'),\n",
        "           ('ángela','angelita'))\n",
        "lista=['pepe','paco','ángela']\n",
        "#iteramos sobre una tupla de pares\n",
        "for x in cambios:\n",
        "    if (x[0] in lista):\n",
        "        i=lista.index(x[0])\n",
        "        lista.remove(x[0])\n",
        "        lista.insert(i,x[1])\n",
        "lista"
      ]
    },
    {
      "cell_type": "code",
      "execution_count": 11,
      "metadata": {
        "id": "ew0EdjGK-T-I",
        "outputId": "2c4b67d8-a7d8-4bd1-8ac6-ec74a89d3654",
        "colab": {
          "base_uri": "https://localhost:8080/"
        }
      },
      "outputs": [
        {
          "output_type": "stream",
          "name": "stdout",
          "text": [
            "1: \"pepe\", 2: \"paco\", \n",
            "\n",
            "1: \"pepe\"\n",
            "2: \"paco\"\n"
          ]
        }
      ],
      "source": [
        "# Iteraciones básicas sobre diccionarios\n",
        "# El iterador por defecto proporcina las claves del diccionario\n",
        "dic={1:\"pepe\", 2:\"paco\"}\n",
        "for cla in dic: #iterable en un diccionario\n",
        "    print(f'{cla}: \"{dic[cla]}\"',end=\", \")\n",
        "# dic.items da la lista de tuplas (clave, valor) del diccionario dic\n",
        "print('\\n')\n",
        "for c, v in dic.items():\n",
        "       print(f'{c}: \"{v}\"')\n"
      ]
    },
    {
      "cell_type": "markdown",
      "metadata": {
        "id": "xmNArKkP-T-I"
      },
      "source": [
        "**Trabajo personal**: revisar en el tutorial de Python el funcionamiento de break y continue y, también, cómo usar match.\n",
        "Ojo, match sólo funciona a partir de la versión 3.10"
      ]
    },
    {
      "cell_type": "markdown",
      "metadata": {
        "id": "m8MCDfjo-T-I"
      },
      "source": [
        "# Funciones"
      ]
    },
    {
      "cell_type": "code",
      "execution_count": 12,
      "metadata": {
        "id": "VJ31GtMz-T-I"
      },
      "outputs": [],
      "source": [
        "#definición de una función\n",
        "#Incorpora un objeto función al entorno\n",
        "def pruebaLectura():\n",
        "    s=input('Dame tu nombre:  ')\n",
        "    print('Hola',s)"
      ]
    },
    {
      "cell_type": "code",
      "execution_count": 13,
      "metadata": {
        "id": "s8NgsZ_u-T-I",
        "outputId": "d03ca9b4-1117-405b-930a-f916ec18044a",
        "colab": {
          "base_uri": "https://localhost:8080/"
        }
      },
      "outputs": [
        {
          "output_type": "stream",
          "name": "stdout",
          "text": [
            "Dame tu nombre:  f\n",
            "Hola f\n"
          ]
        }
      ],
      "source": [
        "#llamada\n",
        "pruebaLectura()"
      ]
    },
    {
      "cell_type": "code",
      "execution_count": 14,
      "metadata": {
        "id": "zud4vwr5-T-I"
      },
      "outputs": [],
      "source": [
        "#con parámetros\n",
        "def pru2(nom):\n",
        "    print(f'Hola {nom}')"
      ]
    },
    {
      "cell_type": "code",
      "execution_count": 15,
      "metadata": {
        "id": "R-Rh0x5n-T-I",
        "outputId": "b834231d-4c37-4ed3-e7a8-8bc179963410",
        "colab": {
          "base_uri": "https://localhost:8080/"
        }
      },
      "outputs": [
        {
          "output_type": "stream",
          "name": "stdout",
          "text": [
            "Hola Luis\n"
          ]
        }
      ],
      "source": [
        "pru2('Luis')"
      ]
    },
    {
      "cell_type": "code",
      "execution_count": 16,
      "metadata": {
        "id": "Ob_1tXDC-T-J"
      },
      "outputs": [],
      "source": [
        "def pru3(nom, apell):\n",
        "    print(f'Hola {nom} {apell}')"
      ]
    },
    {
      "cell_type": "code",
      "execution_count": 17,
      "metadata": {
        "id": "GuXafLE6-T-J",
        "outputId": "6e3b2830-65d8-4fac-fcad-d82cd732ce74",
        "colab": {
          "base_uri": "https://localhost:8080/"
        }
      },
      "outputs": [
        {
          "output_type": "stream",
          "name": "stdout",
          "text": [
            "Hola Luis Pérez\n"
          ]
        }
      ],
      "source": [
        "pru3('Luis','Pérez')"
      ]
    },
    {
      "cell_type": "code",
      "execution_count": 18,
      "metadata": {
        "id": "dq3sFdSB-T-J"
      },
      "outputs": [],
      "source": [
        "def pru4(apell,nom='Pepe'):   #permite dar valor por defecto,por lo que son opcionales en las llamadas\n",
        "    print(f'Hola {nom} {apell}')\n"
      ]
    },
    {
      "cell_type": "code",
      "execution_count": 19,
      "metadata": {
        "id": "UowOJbLR-T-J",
        "outputId": "8eab0ec2-f239-498b-c8f0-d330e8150bf6",
        "colab": {
          "base_uri": "https://localhost:8080/"
        }
      },
      "outputs": [
        {
          "output_type": "stream",
          "name": "stdout",
          "text": [
            "Hola Pepe Pèrez\n"
          ]
        }
      ],
      "source": [
        "pru4('Pèrez')"
      ]
    },
    {
      "cell_type": "code",
      "execution_count": 20,
      "metadata": {
        "id": "cN-cUt4J-T-J",
        "outputId": "a586cfe4-bbf0-4e35-fbbb-084c6fd3bae5",
        "colab": {
          "base_uri": "https://localhost:8080/"
        }
      },
      "outputs": [
        {
          "output_type": "stream",
          "name": "stdout",
          "text": [
            "Hola Luis Pèrez\n"
          ]
        }
      ],
      "source": [
        "pru4('Pèrez','Luis')"
      ]
    },
    {
      "cell_type": "code",
      "execution_count": 21,
      "metadata": {
        "id": "rvvoS4Tq-T-J"
      },
      "outputs": [],
      "source": [
        "#permite de modo natural devoluciones múltiples, ya que tuplas son tipos básicos\n",
        "def dobleTriple(x):\n",
        "    return 2*x,3*x"
      ]
    },
    {
      "cell_type": "code",
      "execution_count": 22,
      "metadata": {
        "id": "7nxtV5bp-T-J",
        "outputId": "c297df26-b42f-408e-bb5b-466075338eed",
        "colab": {
          "base_uri": "https://localhost:8080/"
        }
      },
      "outputs": [
        {
          "output_type": "stream",
          "name": "stdout",
          "text": [
            "(10, 15)\n"
          ]
        }
      ],
      "source": [
        "print(dobleTriple(5))"
      ]
    },
    {
      "cell_type": "code",
      "execution_count": 23,
      "metadata": {
        "id": "8bVEv2yL-T-K",
        "outputId": "c25e0890-ecc2-4625-ab8b-f3c1cc23bea9",
        "colab": {
          "base_uri": "https://localhost:8080/"
        }
      },
      "outputs": [
        {
          "output_type": "stream",
          "name": "stdout",
          "text": [
            "15\n"
          ]
        }
      ],
      "source": [
        "x,y= dobleTriple(5)\n",
        "print(y)"
      ]
    },
    {
      "cell_type": "code",
      "execution_count": 24,
      "metadata": {
        "id": "6zxQiIw9-T-K",
        "outputId": "1f9b32a4-4c1c-4591-cf53-27b5c551a3e3",
        "colab": {
          "base_uri": "https://localhost:8080/"
        }
      },
      "outputs": [
        {
          "output_type": "stream",
          "name": "stdout",
          "text": [
            "2 is a prime number\n",
            "3 is a prime number\n",
            "4 equals 2 * 2\n",
            "5 is a prime number\n",
            "6 equals 2 * 3\n",
            "7 is a prime number\n",
            "8 equals 2 * 4\n",
            "9 equals 3 * 3\n"
          ]
        }
      ],
      "source": [
        "#Basándote en este código, diseña una función que muestre los primos menores que un valor entero pasado como parámetro\n",
        "for n in range(2, 10):\n",
        "    for x in range(2, n):\n",
        "        if n % x == 0:\n",
        "            print(n, 'equals', x, '*', int(n/x))\n",
        "            break\n",
        "    else:# no se sale por break, luego n no tiene factores\n",
        "        print(n, 'is a prime number')"
      ]
    },
    {
      "cell_type": "markdown",
      "metadata": {
        "id": "Fku9MUTJ-T-K"
      },
      "source": [
        "**Trabajo personal**:\n",
        "Python proporciona una amplia variedad de posibilidades respecto de los parámetros reales, los que aparecen en la llamada a una función. Para entenderlo se recomienda revisar las Secciones 4.8 y 4.9 del Tutorial.\n",
        "Para entender las llamadas a funciones es muy importante entender las nociones de parámetros posicionales y los que usan \"palabra_clave\"."
      ]
    },
    {
      "cell_type": "markdown",
      "source": [
        "## Ejercicios\n",
        "\n",
        "A continuación se listan los ejercicios a realizar para esta sesión. Para cada uno de ellos se proporciona la cabecera de la función a definir junto con unos casos de prueba para verificar el comportamiento correcto de los métodos. Lo único que deberás hacer es reemplazar el ``pass`` por la definición de la función.   "
      ],
      "metadata": {
        "id": "FiZOEGWgDJlc"
      }
    },
    {
      "cell_type": "markdown",
      "source": [
        "**Ejercicio:** define una función que calcule la suma de los elementos de una secuencia."
      ],
      "metadata": {
        "id": "1lv2l2rcBbl7"
      }
    },
    {
      "cell_type": "code",
      "source": [
        "def suma_elementos(lista):\n",
        "  '''\n",
        "  >>> suma_elementos([])\n",
        "  0\n",
        "  >>> suma_elementos([1,2,3,4,5])\n",
        "  15\n",
        "  >>> suma_elementos([3.4,2.7,1.8,-2.3,65])\n",
        "  70.6\n",
        "  '''\n",
        "  return sum(n for n in lista)\n",
        "  pass"
      ],
      "metadata": {
        "id": "GcRNSN9XBbDr"
      },
      "execution_count": 25,
      "outputs": []
    },
    {
      "cell_type": "markdown",
      "source": [
        "Si la definición anterior no es correcta, al ejecutar la siguiente celda obtendrás un error, lo que significa que tu función no pasa los tests proporcionados."
      ],
      "metadata": {
        "id": "4UEWXtKSBITY"
      }
    },
    {
      "cell_type": "code",
      "source": [
        "import doctest\n",
        "doctest.testmod()"
      ],
      "metadata": {
        "id": "v-sMNw8-A47z",
        "outputId": "72f4b9e0-ddeb-418b-fb08-c5bf1ddfa56e",
        "colab": {
          "base_uri": "https://localhost:8080/"
        }
      },
      "execution_count": 26,
      "outputs": [
        {
          "output_type": "execute_result",
          "data": {
            "text/plain": [
              "TestResults(failed=0, attempted=3)"
            ]
          },
          "metadata": {},
          "execution_count": 26
        }
      ]
    },
    {
      "cell_type": "markdown",
      "metadata": {
        "id": "7L5ck229-T-K"
      },
      "source": [
        "**Ejercicio:** define una función que calcula el máximo entre las sumas de una lista de tuplas."
      ]
    },
    {
      "cell_type": "code",
      "source": [
        "def maximo_sumas_lista_tuplas(lista_tuplas):\n",
        "  '''\n",
        "  >>> maximo_sumas_lista_tuplas([()])\n",
        "  0\n",
        "  >>> maximo_sumas_lista_tuplas([(1,2,4),(4,8,-2),(1,-1,3)])\n",
        "  10\n",
        "  >>> maximo_sumas_lista_tuplas([(-1,),(-2,-3),(-4,-5,-6)])\n",
        "  -1\n",
        "  '''\n",
        "  return max(sum(tupla) for tupla in lista_tuplas)\n"
      ],
      "metadata": {
        "id": "oTxYNnbbB2th"
      },
      "execution_count": 27,
      "outputs": []
    },
    {
      "cell_type": "code",
      "source": [
        "doctest.testmod()"
      ],
      "metadata": {
        "id": "CciHQh7fBi8D",
        "outputId": "fe65ade5-602d-4a24-ffcf-1c01088b481e",
        "colab": {
          "base_uri": "https://localhost:8080/"
        }
      },
      "execution_count": 28,
      "outputs": [
        {
          "output_type": "execute_result",
          "data": {
            "text/plain": [
              "TestResults(failed=0, attempted=6)"
            ]
          },
          "metadata": {},
          "execution_count": 28
        }
      ]
    },
    {
      "cell_type": "markdown",
      "metadata": {
        "id": "UfsfgRtH-T-K"
      },
      "source": [
        "**Ejercicio:** Usamos diccionarios como agendas. La clave es el nombre del contacto, el valor asociado es un par (nacionalidad, telefono). Por otro lado usamos otra tabla cuya clave es la nacionalidad y el valor el prefijo (+34, por ejemplo). Diseña una función que modifica una agenda añadiendo los prefijos a los teléfonos."
      ]
    },
    {
      "cell_type": "code",
      "source": [
        "def anade_prefijo(agenda,tabla):\n",
        "  '''\n",
        "  >>> anade_prefijo({'Pepe':('España','660121341'), 'Pierre': ('Francia','249834198'), 'Juan':('España','66122475')},{'España':34, 'Francia': 33})\n",
        "  {'Pepe': ('España', '+34660121341'), 'Pierre': ('Francia', '+33249834198'), 'Juan': ('España', '+3466122475')}\n",
        "  '''\n",
        "  nueva_agenda = {}\n",
        "  for nombre, (nacionalidad, telefono) in agenda.items():\n",
        "    prefijo = tabla.get(nacionalidad)\n",
        "    if prefijo:\n",
        "      nuevo_telefono = f\"+{prefijo}{telefono}\"\n",
        "    else:\n",
        "      nuevo_telefono = telefono\n",
        "    nueva_agenda[nombre] = (nacionalidad, nuevo_telefono)\n",
        "  return nueva_agenda"
      ],
      "metadata": {
        "id": "_pReSXNVB3IJ"
      },
      "execution_count": 29,
      "outputs": []
    },
    {
      "cell_type": "code",
      "source": [
        "doctest.testmod()"
      ],
      "metadata": {
        "id": "YRY3OcYNBjZ7",
        "outputId": "0799e09a-b9ec-4fcc-955b-e0f56b9cae95",
        "colab": {
          "base_uri": "https://localhost:8080/"
        }
      },
      "execution_count": 30,
      "outputs": [
        {
          "output_type": "execute_result",
          "data": {
            "text/plain": [
              "TestResults(failed=0, attempted=7)"
            ]
          },
          "metadata": {},
          "execution_count": 30
        }
      ]
    },
    {
      "cell_type": "markdown",
      "metadata": {
        "id": "Igzn3CNT-T-K"
      },
      "source": [
        "**Ejercicio:** Evaluamos polinomios. Diseña distintas funciones para realizar la evaluación de polinomios con distintas representaciones:\n",
        "- La primera representación es una tupla de coeficientes. La tupla (-1,0,0,1,0,0,5) representa al polinomio pol(x) =−1 +x^3+ 5x^6.\n",
        "- La segunda representación usa un diccionario, {0:-1,3:1,6:5}"
      ]
    },
    {
      "cell_type": "code",
      "source": [
        "def evalua_polinomios_tupla(polinomio,x):\n",
        "  '''\n",
        "  >>> evalua_polinomios_tupla((-1,0,0,1,0,0,5),5)\n",
        "  78249\n",
        "  >>> evalua_polinomios_tupla((0,1,2,0,4),-1)\n",
        "  5\n",
        "  '''\n",
        "  resultado = 0\n",
        "  for n in polinomio:\n",
        "    resultado += n*(x**polinomio.index(n))\n",
        "  return resultado\n"
      ],
      "metadata": {
        "id": "JIALZ6LKCCxp"
      },
      "execution_count": 31,
      "outputs": []
    },
    {
      "cell_type": "code",
      "source": [
        "doctest.testmod()"
      ],
      "metadata": {
        "id": "VbDgWnErBj9q",
        "outputId": "b5c9ef60-2abf-4a78-cfa6-a5e71502723c",
        "colab": {
          "base_uri": "https://localhost:8080/"
        }
      },
      "execution_count": 32,
      "outputs": [
        {
          "output_type": "execute_result",
          "data": {
            "text/plain": [
              "TestResults(failed=0, attempted=9)"
            ]
          },
          "metadata": {},
          "execution_count": 32
        }
      ]
    },
    {
      "cell_type": "code",
      "source": [
        "def evalua_polinomios_diccionario(polinomio,x):\n",
        "  '''\n",
        "  >>> evalua_polinomios_diccionario({0:-1,3:1,6:5},5)\n",
        "  78249\n",
        "  >>> evalua_polinomios_diccionario({1:1,2:2,4:4},-1)\n",
        "  5\n",
        "  '''\n",
        "  resultado=0\n",
        "  for grado,numero in polinomio.items():\n",
        "    resultado += numero*x**grado\n",
        "  return resultado"
      ],
      "metadata": {
        "id": "HdSjutBTFUAL"
      },
      "execution_count": 33,
      "outputs": []
    },
    {
      "cell_type": "code",
      "source": [
        "doctest.testmod()"
      ],
      "metadata": {
        "id": "eBqN8kwdBkYj",
        "outputId": "709a4aad-e392-41df-e2be-66959b3ac9b0",
        "colab": {
          "base_uri": "https://localhost:8080/"
        }
      },
      "execution_count": 34,
      "outputs": [
        {
          "output_type": "execute_result",
          "data": {
            "text/plain": [
              "TestResults(failed=0, attempted=11)"
            ]
          },
          "metadata": {},
          "execution_count": 34
        }
      ]
    },
    {
      "cell_type": "markdown",
      "metadata": {
        "id": "x_KKJ3VI-T-L"
      },
      "source": [
        "**Ejercicio:** Representa un grafo mediante un diccionario. Las claves son los vértices y los valores son listas (vértices adyacentes a la clave). Define una función que decide si un diccionario representa un grafo no dirigido (todo vértice de un grafo está en la lista de vértices adyacentes de los vértices adyacentes al mismo)."
      ]
    },
    {
      "cell_type": "code",
      "source": [
        "def es_grafo_no_dirigido(grafo):\n",
        "  '''\n",
        "  >>> es_grafo_no_dirigido({})\n",
        "  True\n",
        "  >>> es_grafo_no_dirigido({1:[2,3],2:[1,4],3:[1],4:[2]})\n",
        "  True\n",
        "  >>> es_grafo_no_dirigido({1:[2,3],2:[4],3:[1],4:[2]})\n",
        "  False\n",
        "  >>> es_grafo_no_dirigido({1:[2,3],2:[1,4],3:[1,2],4:[2]})\n",
        "  False\n",
        "  '''\n",
        "  for vertice, vecinos in grafo.items():\n",
        "        for v in vecinos:\n",
        "            if v not in grafo:\n",
        "                return False\n",
        "            if vertice not in grafo[v]:\n",
        "                return False\n",
        "  return True"
      ],
      "metadata": {
        "id": "mbSW1mEhCOdg"
      },
      "execution_count": 35,
      "outputs": []
    },
    {
      "cell_type": "code",
      "source": [
        "doctest.testmod()"
      ],
      "metadata": {
        "id": "3jqDiyI7Bkzz",
        "outputId": "2d76ae38-8c35-43df-9a99-64969b34357b",
        "colab": {
          "base_uri": "https://localhost:8080/"
        }
      },
      "execution_count": 36,
      "outputs": [
        {
          "output_type": "execute_result",
          "data": {
            "text/plain": [
              "TestResults(failed=0, attempted=15)"
            ]
          },
          "metadata": {},
          "execution_count": 36
        }
      ]
    },
    {
      "cell_type": "markdown",
      "metadata": {
        "id": "3rUt7kAy-T-L"
      },
      "source": [
        "**Ejercicio:** Dada una lista, definir una función que calcule la lista de frecuencias de cada uno de sus elementos y devuelva el resultado como un diccionario."
      ]
    },
    {
      "cell_type": "code",
      "source": [
        "def lista_frecuencias(lista):\n",
        "  '''\n",
        "  >>> lista_frecuencias([1,2,1,3,1,2,1,4,2,2])\n",
        "  {1: 4, 2: 4, 3: 1, 4: 1}\n",
        "  >>> lista_frecuencias([])\n",
        "  {}\n",
        "  '''\n",
        "  frecuencias = {}\n",
        "  for n in lista:\n",
        "    if n in frecuencias:\n",
        "      frecuencias[n] += 1\n",
        "    else:\n",
        "      frecuencias[n] = 1\n",
        "  return frecuencias"
      ],
      "metadata": {
        "id": "IDrhgOW1CO1p"
      },
      "execution_count": 37,
      "outputs": []
    },
    {
      "cell_type": "code",
      "source": [
        "doctest.testmod()"
      ],
      "metadata": {
        "id": "rJEKtIscBlVc",
        "outputId": "c670cd4f-e944-49b7-f124-e33596b65984",
        "colab": {
          "base_uri": "https://localhost:8080/"
        }
      },
      "execution_count": 38,
      "outputs": [
        {
          "output_type": "execute_result",
          "data": {
            "text/plain": [
              "TestResults(failed=0, attempted=17)"
            ]
          },
          "metadata": {},
          "execution_count": 38
        }
      ]
    },
    {
      "cell_type": "markdown",
      "metadata": {
        "id": "tToOX0ry-T-L"
      },
      "source": [
        "**Ejercicio:** Pensamos en representar una matriz mediante una lista de listas.\n",
        "Desarrolla una función que calcule la matriz de las sumas acumuladas por filas y devuelva el resultado en una lista. Haced otra que lo haga por columnas. Prueba a hacer ambas en una única función, añadiendo un parámetro para indicar si se quiere la suma por filas o por columnas."
      ]
    },
    {
      "cell_type": "code",
      "execution_count": 58,
      "metadata": {
        "id": "adO6S1JV-T-L"
      },
      "outputs": [],
      "source": [
        "def suma_filas(matriz):\n",
        "  '''\n",
        "  >>> suma_filas([[1,2,3],[-1,-2,-3]])\n",
        "  [6, -6]\n",
        "  >>> suma_filas([[1,2,3,4],[-1,-2,-3,4],[3,5,1,0]])\n",
        "  [10, -2, 9]\n",
        "  '''\n",
        "  return [sum(fila) for fila in matriz]"
      ]
    },
    {
      "cell_type": "code",
      "source": [
        "doctest.testmod()"
      ],
      "metadata": {
        "id": "Iwenfiu2Bl5T",
        "outputId": "bd4c91e6-f88a-4888-b5eb-aa74ee98f215",
        "colab": {
          "base_uri": "https://localhost:8080/"
        }
      },
      "execution_count": 59,
      "outputs": [
        {
          "output_type": "execute_result",
          "data": {
            "text/plain": [
              "TestResults(failed=0, attempted=25)"
            ]
          },
          "metadata": {},
          "execution_count": 59
        }
      ]
    },
    {
      "cell_type": "code",
      "source": [
        "def suma_columnas(matriz):\n",
        "  '''\n",
        "  >>> suma_columnas([[1,2,3],[-1,-2,-3]])\n",
        "  [0, 0, 0]\n",
        "  >>> suma_columnas([[1,2,3,4],[-1,-2,-3,4],[3,5,1,0]])\n",
        "  [3, 5, 1, 8]\n",
        "  '''\n",
        "  num_columnas = len(matriz[0])\n",
        "  resultado = [0] * num_columnas\n",
        "  for fila in matriz:\n",
        "    for i in range(num_columnas):\n",
        "      resultado[i] += fila[i]\n",
        "  return resultado"
      ],
      "metadata": {
        "id": "7_1NX_UMFruh"
      },
      "execution_count": 41,
      "outputs": []
    },
    {
      "cell_type": "code",
      "source": [
        "doctest.testmod()"
      ],
      "metadata": {
        "id": "zcJuYY6iBmYe",
        "outputId": "83cfbb56-bf2e-4dca-c5df-104903de43c6",
        "colab": {
          "base_uri": "https://localhost:8080/"
        }
      },
      "execution_count": 42,
      "outputs": [
        {
          "output_type": "execute_result",
          "data": {
            "text/plain": [
              "TestResults(failed=0, attempted=21)"
            ]
          },
          "metadata": {},
          "execution_count": 42
        }
      ]
    },
    {
      "cell_type": "code",
      "source": [
        "def suma_filas_o_columnas(matriz,opcion):\n",
        "  '''\n",
        "  >>> suma_filas_o_columnas([[1,2,3],[-1,-2,-3]],'filas')\n",
        "  [6, -6]\n",
        "  >>> suma_filas_o_columnas([[1,2,3,4],[-1,-2,-3,4],[3,5,1,0]],'filas')\n",
        "  [10, -2, 9]\n",
        "  >>> suma_filas_o_columnas([[1,2,3],[-1,-2,-3]],'columnas')\n",
        "  [0, 0, 0]\n",
        "  >>> suma_filas_o_columnas([[1,2,3,4],[-1,-2,-3,4],[3,5,1,0]],'columnas')\n",
        "  [3, 5, 1, 8]\n",
        "  '''\n",
        "  match opcion:\n",
        "    case \"filas\":\n",
        "      resultado = []\n",
        "      for fila in matriz:\n",
        "        resultado.append(sum(fila))\n",
        "      return resultado\n",
        "    case\"columnas\":\n",
        "      num_columnas = len(matriz[0])\n",
        "      resultado = [0] * num_columnas\n",
        "      for fila in matriz:\n",
        "        for i in range(num_columnas):\n",
        "          resultado[i] += fila[i]\n",
        "      return resultado"
      ],
      "metadata": {
        "id": "w5L1Y0SkFua5"
      },
      "execution_count": 43,
      "outputs": []
    },
    {
      "cell_type": "code",
      "source": [
        "doctest.testmod()"
      ],
      "metadata": {
        "id": "9TKaAbwGBmzC",
        "outputId": "966372c9-71db-465f-c2a3-3bb5eebcef60",
        "colab": {
          "base_uri": "https://localhost:8080/"
        }
      },
      "execution_count": 44,
      "outputs": [
        {
          "output_type": "execute_result",
          "data": {
            "text/plain": [
              "TestResults(failed=0, attempted=25)"
            ]
          },
          "metadata": {},
          "execution_count": 44
        }
      ]
    },
    {
      "cell_type": "markdown",
      "source": [
        "# Entrega\n",
        "Recuerda guardar este notebook en tu repositorio de GitHub."
      ],
      "metadata": {
        "id": "vDiCmvcaHsjq"
      }
    }
  ],
  "metadata": {
    "kernelspec": {
      "display_name": "Python 3 (ipykernel)",
      "language": "python",
      "name": "python3"
    },
    "language_info": {
      "codemirror_mode": {
        "name": "ipython",
        "version": 3
      },
      "file_extension": ".py",
      "mimetype": "text/x-python",
      "name": "python",
      "nbconvert_exporter": "python",
      "pygments_lexer": "ipython3",
      "version": "3.8.10"
    },
    "colab": {
      "provenance": [],
      "include_colab_link": true
    }
  },
  "nbformat": 4,
  "nbformat_minor": 0
}